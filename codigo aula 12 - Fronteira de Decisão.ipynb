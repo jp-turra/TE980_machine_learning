{
 "cells": [
  {
   "cell_type": "markdown",
   "id": "f1cc65d6",
   "metadata": {
    "pycharm": {
     "name": "#%% md\n"
    }
   },
   "source": [
    "# Fronteira de Decisão\n"
   ]
  },
  {
   "cell_type": "markdown",
   "id": "86fe6af0",
   "metadata": {
    "pycharm": {
     "name": "#%% md\n"
    }
   },
   "source": [
    "## Objetivos\n",
    "\n",
    "Com este código, você irá:\n",
    "- Plotar a Fronteira de Decisão para um modelo de Regressão Logística. Isso lhe dará uma maior noção sobre o que o modelo está prevendo.\n"
   ]
  },
  {
   "cell_type": "code",
   "execution_count": 1,
   "id": "6ee320a5",
   "metadata": {
    "pycharm": {
     "name": "#%%\n"
    }
   },
   "outputs": [],
   "source": [
    "import numpy as np\n",
    "import matplotlib.pyplot as plt"
   ]
  },
  {
   "cell_type": "markdown",
   "id": "7867bf8d",
   "metadata": {
    "pycharm": {
     "name": "#%% md\n"
    }
   },
   "source": [
    "## Conjunto de dados\n",
    "\n",
    "Vamos supor que você possui o seguinte conjunto de dados\n",
    "- A variável de entrada `X` é uma numpy array com 6 exemplos de treniamento, cada um com duas características\n",
    "- A variável de saída `y` é também uma numpy array com 6 exemplos, sendo que `y` é sempre `0` ou `1`"
   ]
  },
  {
   "cell_type": "code",
   "execution_count": 2,
   "id": "9baca38b",
   "metadata": {
    "pycharm": {
     "name": "#%%\n"
    }
   },
   "outputs": [],
   "source": [
    "X = np.array([[0.5, 1.5], [1,1], [1.5, 0.5], [3, 0.5], [2, 2], [1, 2.5]])\n",
    "y = np.array([0, 0, 0, 1, 1, 1])"
   ]
  },
  {
   "cell_type": "markdown",
   "id": "182b8eb5",
   "metadata": {
    "pycharm": {
     "name": "#%% md\n"
    }
   },
   "source": [
    "### Plotando os dados"
   ]
  },
  {
   "cell_type": "code",
   "execution_count": 3,
   "id": "89a44af6",
   "metadata": {
    "pycharm": {
     "name": "#%%\n"
    }
   },
   "outputs": [
    {
     "data": {
      "image/png": "[encoded data removed]",
      "text/plain": [
       "<Figure size 288x288 with 1 Axes>"
      ]
     },
     "metadata": {
      "needs_background": "light"
     },
     "output_type": "display_data"
    }
   ],
   "source": [
    "pos = y == 1 # identifica os elementos em y que são iguais a 1\n",
    "neg = y == 0 # identifica os elementos em y que são iguais a 0\n",
    "\n",
    "fig,ax = plt.subplots(1,1,figsize=(4,4))\n",
    "ax.scatter(X[pos,0], X[pos,1], marker='x', s=80, c = 'red', label=\"y=1\")\n",
    "ax.scatter(X[neg,0], X[neg,1], marker='o', s=100, label=\"y=0\", facecolors='none', \n",
    "              edgecolors='b',lw=3)\n",
    "\n",
    "ax.axis([0, 4, 0, 3.5])\n",
    "ax.set_ylabel('$x_1$')\n",
    "ax.set_xlabel('$x_0$')\n",
    "ax.legend()\n",
    "plt.show()"
   ]
  },
  {
   "cell_type": "markdown",
   "id": "7b5bea62",
   "metadata": {
    "pycharm": {
     "name": "#%% md\n"
    }
   },
   "source": [
    " \n",
    "  \n",
    "## Plotando a Fronteira de Decisão para o modelo com $w_0=1$, $w_1=1$ e $b=-3$\n",
    "\n",
    "\n",
    "Já vimos que o modelo de Regressão Logística aplica a função sigmoide para o modelo de regressão linear, conforme mostrado abaixo:\n",
    "\n",
    "$$ f_{\\mathbf{w},b}(\\mathbf{x}^{(i)}) = g(\\mathbf{w} \\cdot \\mathbf{x}^{(i)} + b ) \\tag{2} $$ \n",
    "\n",
    "  onde\n",
    "\n",
    "  $g(z) = \\frac{1}{1+e^{-z}}\\tag{3}$\n",
    "\n",
    "Ou seja, se considerarmos $w_1=1$, $w_2=1$ e $b=-3$, significa que nosso modelo é\n",
    "\n",
    "$$ f(\\mathbf{x}) = g(-3 + x_0+x_1) $$\n",
    "\n",
    "\n",
    "* A partir daquilo que aprendemos, sabemos que o modelo irá prever $y=1$ quando $-3 + x_0+x_1 >= 0$\n",
    "\n",
    "Vamos verificar o que significa isso graficamente. Faremos isso plotando a Fronteira de Decisão $-3 + x_0+x_1 = 0$, que equivale a $x_1 = 3 - x_0$.\n"
   ]
  },
  {
   "cell_type": "code",
   "execution_count": 12,
   "id": "f3c4a990",
   "metadata": {
    "pycharm": {
     "name": "#%%\n"
    }
   },
   "outputs": [
    {
     "data": {
      "image/png": "[encoded data removed]",
      "text/plain": [
       "<Figure size 360x288 with 1 Axes>"
      ]
     },
     "metadata": {
      "needs_background": "light"
     },
     "output_type": "display_data"
    }
   ],
   "source": [
    "# Escolhendo valores entre 0 e 6\n",
    "x0 = np.arange(0,6)\n",
    "\n",
    "x1 = 3 - x0\n",
    "fig,ax = plt.subplots(1,1,figsize=(5,4))\n",
    "\n",
    "# Plotando a Fronteira de Decisão\n",
    "ax.plot(x0,x1, c=\"b\")\n",
    "ax.axis([0, 4, 0, 3.5]) # limitando o display do gráfico\n",
    "\n",
    "# Preenche a região abaixo da linha\n",
    "ax.fill_between(x0,x1, alpha=0.2)\n",
    "\n",
    "# Plotando os dados também:\n",
    "ax.scatter(X[pos,0], X[pos,1], marker='x', s=80, c = 'red', label=\"y=1\")\n",
    "ax.scatter(X[neg,0], X[neg,1], marker='o', s=100, label=\"y=0\", facecolors='none', \n",
    "              edgecolors='b',lw=3)\n",
    "\n",
    "ax.set_ylabel('$x_1$')\n",
    "ax.set_xlabel('$x_0$')\n",
    "plt.show()"
   ]
  },
  {
   "cell_type": "markdown",
   "id": "dbb5b861",
   "metadata": {
    "pycharm": {
     "name": "#%% md\n"
    }
   },
   "source": [
    "* No gráfico acima, a linha azul representa a linha $x_0 + x_1 - 3 = 0$ e ela intercepta o eixo x0 em 3 (para $x_1=0$, tem-se $x_0=3$)\n",
    "\n",
    "\n",
    "* A região com cor azul representa $-3 + x_0+x_1 < 0$. A região acima da linha representa $-3 + x_0+x_1 > 0$.\n",
    "\n",
    "\n",
    "* Qualquer ponto na região com cor azul (abaixo da linha) é classificado como $y=0$. Qualquer ponto acima da curva é classificado como $y=1$. Essa linha é chamada de \"Fronteira de Decisão\". \n",
    "\n",
    "Também vimos que, usando termos polinomiais de maior ordem (por exemplo, $f(x) = g( x_0^2 + x_1 -1)$ ), Fronteiras de Decisão mais complexas podem ser obtidas!"
   ]
  },
  {
   "cell_type": "markdown",
   "id": "cfde5655",
   "metadata": {
    "pycharm": {
     "name": "#%% md\n"
    }
   },
   "source": [
    "## Parabéns!\n",
    "\n",
    "Você explorou a conceito de Fronteira de Decisão no contexto de Regressão Logística."
   ]
  }
 ],
 "metadata": {
  "kernelspec": {
   "display_name": "Python 3 (ipykernel)",
   "language": "python",
   "name": "python3"
  },
  "language_info": {
   "codemirror_mode": {
    "name": "ipython",
    "version": 3
   },
   "file_extension": ".py",
   "mimetype": "text/x-python",
   "name": "python",
   "nbconvert_exporter": "python",
   "pygments_lexer": "ipython3",
   "version": "3.9.12"
  }
 },
 "nbformat": 4,
 "nbformat_minor": 5
}
