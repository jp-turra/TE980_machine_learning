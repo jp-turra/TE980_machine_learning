{
 "cells": [
  {
   "attachments": {},
   "cell_type": "markdown",
   "id": "0e66b4b5",
   "metadata": {
    "pycharm": {
     "name": "#%% md\n"
    }
   },
   "source": [
    "# Classificação e Função Sigmoide\n"
   ]
  },
  {
   "attachments": {},
   "cell_type": "markdown",
   "id": "d49c02b7",
   "metadata": {
    "pycharm": {
     "name": "#%% md\n"
    }
   },
   "source": [
    "## Objetivos\n",
    "\n",
    "Com este código, você irá:\n",
    "- Explorar o conceito de classificação\n",
    "- Explorar a função sigmoide (também conhecida como função logística)"
   ]
  },
  {
   "cell_type": "code",
   "execution_count": 1,
   "id": "77673a9e",
   "metadata": {
    "pycharm": {
     "name": "#%%\n"
    }
   },
   "outputs": [],
   "source": [
    "import numpy as np\n",
    "import matplotlib.pyplot as plt\n",
    "np.set_printoptions(precision=2)"
   ]
  },
  {
   "attachments": {},
   "cell_type": "markdown",
   "id": "d8f877bb",
   "metadata": {
    "pycharm": {
     "name": "#%% md\n"
    }
   },
   "source": [
    "## Problemas de Classificação\n",
    "\n",
    "Exemplos de problemas de classificação são coisas como:\n",
    "- Identificar se o e-mail é SPAM ou não\n",
    "- Determinar se um tumor é maligno ou beningo\n",
    "\n",
    "Especificamente, esses são problemas de classificação binária, onde só existem dois possíveis valores de saída.\n",
    "Esses valores de saída podem ser descritos como 'positivo'/'negativo', 'sim'/'não', 'verdadeiro'/'falso' ou '1'/'0'\n",
    "\n",
    "As figuras feitas para problemas de classificação geralmente usam símbolos para indicar o valor de saída de uma amostra. Nos gráficos abaixo, 'X' é usado para representar valores positivos e 'O' é usado para representar valores negativos."
   ]
  },
  {
   "cell_type": "code",
   "execution_count": 2,
   "id": "978f6d50",
   "metadata": {},
   "outputs": [
    {
     "data": {
      "image/png": "[encoded data removed]",
      "text/plain": [
       "<Figure size 800x300 with 2 Axes>"
      ]
     },
     "metadata": {},
     "output_type": "display_data"
    }
   ],
   "source": [
    "x_train = np.array([0., 1, 2, 3, 4, 5])\n",
    "y_train = np.array([0,  0, 0, 1, 1, 1])\n",
    "\n",
    "pos = y_train == 1\n",
    "neg = y_train == 0\n",
    "\n",
    "fig,ax = plt.subplots(1,2,figsize=(8,3))\n",
    "#plot 1, single variable\n",
    "ax[0].scatter(x_train[pos], y_train[pos], marker='x', s=80, c = 'red', label=\"y=1\")\n",
    "ax[0].scatter(x_train[neg], y_train[neg], marker='o', s=100, label=\"y=0\", facecolors='none', \n",
    "              edgecolors='b',lw=3)\n",
    "\n",
    "ax[0].set_ylim(-0.08,1.1)\n",
    "ax[0].set_ylabel('y', fontsize=12)\n",
    "ax[0].set_xlabel('x', fontsize=12)\n",
    "ax[0].set_title('Plotando problema com uma variável')\n",
    "ax[0].legend()\n",
    "\n",
    "\n",
    "X_train2 = np.array([[0.5, 1.5], [1,1], [1.5, 0.5], [3, 0.5], [2, 2], [1, 2.5]])\n",
    "y_train2 = np.array([0, 0, 0, 1, 1, 1])\n",
    "pos      = y_train2 == 1\n",
    "neg      = y_train2 == 0\n",
    "\n",
    "#plot 2, two variables\n",
    "ax[1].scatter(X_train2[pos,0], X_train2[pos,1], marker='x', s=80, c = 'red', label=\"y=1\")\n",
    "ax[1].scatter(X_train2[neg,0], X_train2[neg,1], marker='o', s=100, label=\"y=0\", facecolors='none', \n",
    "              edgecolors='b',lw=3)\n",
    "ax[1].axis([0, 4, 0, 4])\n",
    "ax[1].set_ylabel('$x_1$', fontsize=12)\n",
    "ax[1].set_xlabel('$x_0$', fontsize=12)\n",
    "ax[1].set_title('Plotando problema com duas variáveis')\n",
    "ax[1].legend()\n",
    "plt.tight_layout()\n",
    "plt.show()\n"
   ]
  },
  {
   "attachments": {},
   "cell_type": "markdown",
   "id": "9c680b57",
   "metadata": {
    "pycharm": {
     "name": "#%% md\n"
    }
   },
   "source": [
    "## Função Sigmoide\n",
    "\n",
    "Conforme discutido, num problema de classificação, nós podemos começar pensando num modelo de regressão $f_{\\mathbf{w},b}(\\mathbf{x}^{(i)}) = \\mathbf{w} \\cdot\\mathbf{x}^{(i)} + b$, para prever $y$ dado $x$. \n",
    "- Entretanto, nós gostaríamos que as previsões feitas pelo modelo de classificação fossem entre 0 e 1, uma vez que nossa variável de saída é ou 0 ou 1.\n",
    "- Isso pode ser obtido usando a função sigmoide, que mapeia todos os valores de entrada para valores entre 0 e 1.\n",
    "\n",
    "\n",
    "Vamos agora implementar essa função.\n",
    "\n",
    "\n",
    "## Fórmula para a função sigmoide\n",
    "\n",
    "A equação para a função sigmoide é \n",
    "\n",
    "$g(z) = \\frac{1}{1+e^{-z}}\\tag{1}$\n",
    "\n",
    "No caso da Regressão Logística, z (entrada da função sigmoide) é a saída do modelo de regressão linear.\n",
    "- No caso de uma única amostra, $z$ é um escalar\n",
    "- No caso de múltiplas amostras (exemplos), $z$ pode ser um vetor com $m$ valores, um para cada amostra\n",
    "- A implementação da função sigmoide deve levar em conta essas duas possibildades de formato de dados de entrada"
   ]
  },
  {
   "attachments": {},
   "cell_type": "markdown",
   "id": "ab798bc7",
   "metadata": {
    "pycharm": {
     "name": "#%% md\n"
    }
   },
   "source": [
    "NumPy tem a função chamada [`exp()`](https://numpy.org/doc/stable/reference/generated/numpy.exp.html), que fornece uma forma conveninente para calcular a exponencial ( $e^{z}$) de todos os elementos presentes na array de entrada (`z`).\n",
    " \n",
    "Isso também funciona para escalares, conforme mostrado abaixo."
   ]
  },
  {
   "cell_type": "code",
   "execution_count": 3,
   "id": "6dfb0f43",
   "metadata": {
    "pycharm": {
     "name": "#%%\n"
    }
   },
   "outputs": [
    {
     "name": "stdout",
     "output_type": "stream",
     "text": [
      "entrada da exp: [1 2 3]\n",
      "saída da exp: [ 2.72  7.39 20.09]\n",
      "entrada da exp: 1\n",
      "saída exp: 2.718281828459045\n"
     ]
    }
   ],
   "source": [
    "# Entrada na forma de array\n",
    "array_de_entrada = np.array([1,2,3])\n",
    "exp_array   = np.exp(array_de_entrada)\n",
    "\n",
    "print(\"entrada da exp:\", array_de_entrada)\n",
    "print(\"saída da exp:\", exp_array)\n",
    "\n",
    "# Entrada dada por um único escalar\n",
    "valor_de_entrada = 1  \n",
    "exp_val = np.exp(valor_de_entrada)\n",
    "\n",
    "print(\"entrada da exp:\", valor_de_entrada)\n",
    "print(\"saída exp:\", exp_val)"
   ]
  },
  {
   "attachments": {},
   "cell_type": "markdown",
   "id": "e1f5a35c",
   "metadata": {
    "pycharm": {
     "name": "#%% md\n"
    }
   },
   "source": [
    "A função `sigmoide` é implementada em Python conforme mostrado abaixo"
   ]
  },
  {
   "cell_type": "code",
   "execution_count": 4,
   "id": "aee495cb",
   "metadata": {
    "pycharm": {
     "name": "#%%\n"
    }
   },
   "outputs": [],
   "source": [
    "def sigmoid(z):\n",
    "    \"\"\"\n",
    "    Calcula o valor sigmoide de z\n",
    "\n",
    "    Argumento:\n",
    "        z (ndarray): Um escalar ou numpy array de qualquer tamanho.\n",
    "\n",
    "    Returns:\n",
    "        g (ndarray): sigmoid(z), com o mesmo shape de z\n",
    "         \n",
    "    \"\"\"\n",
    "\n",
    "    g = 1/(1+np.exp(-z))\n",
    "   \n",
    "    return g"
   ]
  },
  {
   "attachments": {},
   "cell_type": "markdown",
   "id": "c5529ac6",
   "metadata": {
    "pycharm": {
     "name": "#%% md\n"
    }
   },
   "source": [
    "Vamos avaliar a saída dessa função para diferentes valores de `z`"
   ]
  },
  {
   "cell_type": "code",
   "execution_count": 5,
   "id": "2b7c4021",
   "metadata": {
    "pycharm": {
     "name": "#%%\n"
    }
   },
   "outputs": [
    {
     "name": "stdout",
     "output_type": "stream",
     "text": [
      "Entrada (z), Saída (sigmoid(z))\n",
      "[[-1.00e+01  4.54e-05]\n",
      " [-9.00e+00  1.23e-04]\n",
      " [-8.00e+00  3.35e-04]\n",
      " [-7.00e+00  9.11e-04]\n",
      " [-6.00e+00  2.47e-03]\n",
      " [-5.00e+00  6.69e-03]\n",
      " [-4.00e+00  1.80e-02]\n",
      " [-3.00e+00  4.74e-02]\n",
      " [-2.00e+00  1.19e-01]\n",
      " [-1.00e+00  2.69e-01]\n",
      " [ 0.00e+00  5.00e-01]\n",
      " [ 1.00e+00  7.31e-01]\n",
      " [ 2.00e+00  8.81e-01]\n",
      " [ 3.00e+00  9.53e-01]\n",
      " [ 4.00e+00  9.82e-01]\n",
      " [ 5.00e+00  9.93e-01]\n",
      " [ 6.00e+00  9.98e-01]\n",
      " [ 7.00e+00  9.99e-01]\n",
      " [ 8.00e+00  1.00e+00]\n",
      " [ 9.00e+00  1.00e+00]\n",
      " [ 1.00e+01  1.00e+00]]\n"
     ]
    },
    {
     "data": {
      "text/plain": [
       "<matplotlib.collections.PathCollection at 0x1f9779e55b0>"
      ]
     },
     "execution_count": 5,
     "metadata": {},
     "output_type": "execute_result"
    },
    {
     "data": {
      "image/png": "[encoded data removed]",
      "text/plain": [
       "<Figure size 640x480 with 1 Axes>"
      ]
     },
     "metadata": {},
     "output_type": "display_data"
    }
   ],
   "source": [
    "# Gerando uma array com valores entre -10 e 10\n",
    "z_tmp = np.arange(-10,11)\n",
    "\n",
    "# Usando a função\n",
    "y = sigmoid(z_tmp)\n",
    "\n",
    "# Mostrando entrada e saída lado a lado\n",
    "print(\"Entrada (z), Saída (sigmoid(z))\")\n",
    "\n",
    "print(np.c_[z_tmp, y])\n",
    "\n",
    "plt.scatter(z_tmp, y)"
   ]
  },
  {
   "attachments": {},
   "cell_type": "markdown",
   "id": "9a1de6e1",
   "metadata": {
    "pycharm": {
     "name": "#%% md\n"
    }
   },
   "source": [
    "Os valores da esquerda são `z`, e os valores da coluna da esquerda são `sigmoid(z)`. Como você pode observar, os valores de entrada vão de -10 a 10, e os valores de saída vão de 0 a 1.\n",
    "\n",
    "Vamos agora plotar essa função usando a biblioteca `matplotlib`."
   ]
  },
  {
   "cell_type": "code",
   "execution_count": 6,
   "id": "db9459d2",
   "metadata": {
    "pycharm": {
     "name": "#%%\n"
    }
   },
   "outputs": [
    {
     "data": {
      "text/plain": [
       "Text(0.5, 0, 'z')"
      ]
     },
     "execution_count": 6,
     "metadata": {},
     "output_type": "execute_result"
    },
    {
     "data": {
      "image/png": "[encoded data removed]",
      "text/plain": [
       "<Figure size 500x300 with 1 Axes>"
      ]
     },
     "metadata": {},
     "output_type": "display_data"
    }
   ],
   "source": [
    "# Plot z vs sigmoid(z)\n",
    "fig,ax = plt.subplots(1,1,figsize=(5,3))\n",
    "ax.plot(z_tmp, y, c=\"b\")\n",
    "\n",
    "ax.set_title(\"Função sigmoide\")\n",
    "ax.set_ylabel('sigmoid(z)')\n",
    "ax.set_xlabel('z')"
   ]
  },
  {
   "attachments": {},
   "cell_type": "markdown",
   "id": "7c0d7de8",
   "metadata": {
    "pycharm": {
     "name": "#%% md\n"
    }
   },
   "source": [
    "Conforme você pode observar, a função sigmoide tende a `0` conforme `z` atinge grande valores negativos e tende a `1` conforme `z` atinge grandes valores positivos"
   ]
  },
  {
   "attachments": {},
   "cell_type": "markdown",
   "id": "fcba68db",
   "metadata": {
    "pycharm": {
     "name": "#%% md\n"
    }
   },
   "source": [
    "## Regressão Logística\n",
    "\n",
    "Um modelo de Regressão Logística aplica a função sigmoide para o modelo de regressão linear, conforme mostrado abaixo:\n",
    "\n",
    "$$ f_{\\mathbf{w},b}(\\mathbf{x}^{(i)}) = g(\\mathbf{w} \\cdot \\mathbf{x}^{(i)} + b ) \\tag{2} $$ \n",
    "\n",
    "  onde\n",
    "\n",
    "  $g(z) = \\frac{1}{1+e^{-z}}\\tag{3}$\n"
   ]
  },
  {
   "attachments": {},
   "cell_type": "markdown",
   "id": "21fac79a",
   "metadata": {
    "pycharm": {
     "name": "#%% md\n"
    }
   },
   "source": [
    "Para os dados abaixo, busque encontrar 'manualmente' quais seriam valores adequados para 'w' e 'b' que fazem com que o modelo seja capaz de diferenciar um tumor maligno de um tumor benigno."
   ]
  },
  {
   "cell_type": "code",
   "execution_count": 25,
   "id": "59bab6df",
   "metadata": {
    "pycharm": {
     "name": "#%%\n"
    },
    "tags": []
   },
   "outputs": [
    {
     "name": "stdout",
     "output_type": "stream",
     "text": [
      "(6,)\n",
      "(6,)\n",
      "Entrada (x), Probabilidade de ser malígno, Alvo\n",
      "[[-3.    0.05  0.  ]\n",
      " [-1.6   0.17  0.  ]\n",
      " [-0.2   0.45  0.  ]\n",
      " [ 1.2   0.77  1.  ]\n",
      " [ 2.6   0.93  1.  ]\n",
      " [ 4.    0.98  1.  ]]\n"
     ]
    },
    {
     "data": {
      "text/plain": [
       "[<matplotlib.lines.Line2D at 0x1f977c1e040>]"
      ]
     },
     "execution_count": 25,
     "metadata": {},
     "output_type": "execute_result"
    },
    {
     "data": {
      "image/png": "[encoded data removed]",
      "text/plain": [
       "<Figure size 640x480 with 1 Axes>"
      ]
     },
     "metadata": {},
     "output_type": "display_data"
    }
   ],
   "source": [
    "x_train = np.array([0., 1, 2, 3, 4, 5])\n",
    "y_train = np.array([0,  0, 0, 1, 1, 1])\n",
    "\n",
    "w = 1.4\n",
    "b = -3\n",
    "\n",
    "z = w*x_train + b\n",
    "f = sigmoid(z)\n",
    "\n",
    "print(z.shape)\n",
    "print(f.shape)\n",
    "\n",
    "print(\"Entrada (x), Probabilidade de ser malígno, Alvo\")\n",
    "print(np.c_[z, f, y_train])\n",
    "\n",
    "plt.plot(x_train, y_train)"
   ]
  },
  {
   "attachments": {},
   "cell_type": "markdown",
   "id": "7d2b8321",
   "metadata": {
    "pycharm": {
     "name": "#%% md\n"
    }
   },
   "source": [
    "## Parabéns\n",
    "\n",
    "Com este código, você:\n",
    "- Explorou o conceito de classificação\n",
    "- implementou e utilizou a função sigmoide dentro do contexto de Regressão Logística"
   ]
  },
  {
   "cell_type": "code",
   "execution_count": 7,
   "id": "646b2f5b",
   "metadata": {
    "pycharm": {
     "name": "#%%\n"
    }
   },
   "outputs": [],
   "source": []
  },
  {
   "attachments": {},
   "cell_type": "markdown",
   "id": "52e1919d",
   "metadata": {},
   "source": [
    "# Exercício\n",
    "* Explique, com as suas próprias palavras, como a função Sigmoide é utilizada na construção do Método de Regressão Logística.\n",
    "  * A função Sigmoide auxilia a discretizar valores de uma determinada função analógica entre os limites de 0 e 1, quando mais extremos forem, os valores de saída da função sigmoid tenderá zero (extremo negativo) ou um (extremo positivo). Isso será útil quando for utilizar esse método para identifcar diferenças substancias entre algumas características que podem auxiliar a definir um certo resultado classificatório de saída \n",
    "\n",
    "* Para os dados que estão no código, quais valores para w e b resultaram num bom modelo de Regressão Logística?\n",
    "  * w = 1.4\n",
    "  * b = -3\n"
   ]
  }
 ],
 "metadata": {
  "kernelspec": {
   "display_name": "Python 3 (ipykernel)",
   "language": "python",
   "name": "python3"
  },
  "language_info": {
   "codemirror_mode": {
    "name": "ipython",
    "version": 3
   },
   "file_extension": ".py",
   "mimetype": "text/x-python",
   "name": "python",
   "nbconvert_exporter": "python",
   "pygments_lexer": "ipython3",
   "version": "3.9.13"
  }
 },
 "nbformat": 4,
 "nbformat_minor": 5
}
