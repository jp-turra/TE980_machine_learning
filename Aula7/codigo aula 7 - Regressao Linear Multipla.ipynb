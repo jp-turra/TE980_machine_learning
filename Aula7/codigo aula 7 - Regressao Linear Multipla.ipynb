{
 "cells": [
  {
   "cell_type": "markdown",
   "id": "3f389fa6",
   "metadata": {
    "pycharm": {
     "name": "#%% md\n"
    }
   },
   "source": [
    "# Regressão Linear Múltipla"
   ]
  },
  {
   "cell_type": "markdown",
   "id": "490b4f59",
   "metadata": {
    "pycharm": {
     "name": "#%% md\n"
    }
   },
   "source": [
    "## Objetivo\n",
    "Com este código, você irá:\n",
    "- Estender o nosso modelo de regressão para que ele possa contemplar múltiplas características\n",
    "    - Vamos estender a estrutura dos dados para contemplar múltiplas características\n",
    "    - Reescrever a previsão, a função custo e o cálculo do gradiente para contemplar a possibilidade de múltiplas características\n",
    "    - Utilizar a função `np.dot` para vetorizar nossa implementação, para simplificar o código e torná-lo mais rápido."
   ]
  },
  {
   "cell_type": "code",
   "execution_count": 2,
   "id": "95ec3b46",
   "metadata": {
    "pycharm": {
     "name": "#%%\n"
    }
   },
   "outputs": [],
   "source": [
    "import copy, math\n",
    "import numpy as np\n",
    "import matplotlib.pyplot as plt\n",
    "np.set_printoptions(precision=2)  # reduz a precisão das numpy arrays na hora de dar print"
   ]
  },
  {
   "cell_type": "markdown",
   "id": "51bef8ee",
   "metadata": {
    "pycharm": {
     "name": "#%% md\n"
    }
   },
   "source": [
    "# Definição do Problema\n",
    "\n",
    "Usaremos um exemplo de motivação baseado no problema de estimar o preço de uma casa.\n",
    "\n",
    "Os dados de treinamento contêm três exemplos com quatro características (size, bedrooms, floors e age).  Note que a primeira característica possui uma ordem de grandeza muito maior que as demais. Isso causará um problema, mas nós resolveremos isso em códigos futuros. \n",
    "\n",
    "\n",
    "| Size (sqft) | Number of Bedrooms  | Number of floors | Age of  Home | Price (1000s dollars)  |   \n",
    "| ----------------| ------------------- |----------------- |--------------|-------------- |  \n",
    "| 2104            | 5                   | 1                | 45           | 460           |  \n",
    "| 1416            | 3                   | 2                | 40           | 232           |  \n",
    "| 852             | 2                   | 1                | 35           | 178           |  \n",
    "\n",
    "Você irá construir um modelo de regressão linear usando esses valores de tal forma que você também possa depois estimar o preço de outras casas. Por exemplo, um casa com 1200 sqft, 3 bedrooms, 1 floor, 40 years old.  \n"
   ]
  },
  {
   "cell_type": "code",
   "execution_count": 3,
   "id": "7aea2489",
   "metadata": {
    "pycharm": {
     "name": "#%%\n"
    }
   },
   "outputs": [],
   "source": [
    "X_train = np.array([[2104, 5, 1, 45], [1416, 3, 2, 40], [852, 2, 1, 35]])\n",
    "y_train = np.array([460, 232, 178])"
   ]
  },
  {
   "cell_type": "markdown",
   "id": "85f8ac54",
   "metadata": {
    "pycharm": {
     "name": "#%% md\n"
    }
   },
   "source": [
    "## Dando print na nossa matriz X, que contém nossos exemplos de treinamento"
   ]
  },
  {
   "cell_type": "code",
   "execution_count": 4,
   "id": "e8b92e54",
   "metadata": {
    "pycharm": {
     "name": "#%%\n"
    }
   },
   "outputs": [
    {
     "name": "stdout",
     "output_type": "stream",
     "text": [
      "X Shape: (3, 4), X Type:<class 'numpy.ndarray'>)\n",
      "[[2104    5    1   45]\n",
      " [1416    3    2   40]\n",
      " [ 852    2    1   35]]\n",
      "y Shape: (3,), y Type:<class 'numpy.ndarray'>)\n",
      "[460 232 178]\n"
     ]
    }
   ],
   "source": [
    "print(f\"X Shape: {X_train.shape}, X Type:{type(X_train)})\")\n",
    "print(X_train)\n",
    "print(f\"y Shape: {y_train.shape}, y Type:{type(y_train)})\")\n",
    "print(y_train)"
   ]
  },
  {
   "cell_type": "markdown",
   "id": "4ff4b596",
   "metadata": {
    "pycharm": {
     "name": "#%% md\n"
    }
   },
   "source": [
    "## Parâmetros $w$ e $b$\n",
    "\n",
    "* $\\mathbf{w}$ é um vetor com $n$ elementos.\n",
    "  - Cada elemento contém um parâmetro associado a uma característica\n",
    "  - Para o nosso conjunto de dados, $n$ é 4 (número de características)\n",
    "  - $b$ é um parâmetro escalar (apenas um único número)\n"
   ]
  },
  {
   "cell_type": "markdown",
   "id": "f9bc46dd",
   "metadata": {
    "pycharm": {
     "name": "#%% md\n"
    }
   },
   "source": [
    "Para demonstração, $\\mathbf{w}$ e $b$ serão carregados com um valor inicial que é próximo do ótimo. $\\mathbf{w}$ é um vetor construído como sendo uma numpy array de 1 dimensão (1-D NumPy array)."
   ]
  },
  {
   "cell_type": "code",
   "execution_count": 5,
   "id": "8c7be5d2",
   "metadata": {
    "pycharm": {
     "name": "#%%\n"
    }
   },
   "outputs": [
    {
     "name": "stdout",
     "output_type": "stream",
     "text": [
      "w_init shape: (4,), b_init type: <class 'float'>\n"
     ]
    }
   ],
   "source": [
    "b_init = 785.1811367994083\n",
    "w_init = np.array([ 0.39133535, 18.75376741, -53.36032453, -26.42131618])\n",
    "print(f\"w_init shape: {w_init.shape}, b_init type: {type(b_init)}\")"
   ]
  },
  {
   "cell_type": "markdown",
   "id": "9a7de797",
   "metadata": {
    "pycharm": {
     "name": "#%% md\n"
    }
   },
   "source": [
    "# Previsão usando o Modelo com múltiplas características\n",
    "\n",
    "A previsão do modelo com múltiplas características é dada pelo seguinte modelo linear:\n",
    "\n",
    "$$ f_{\\mathbf{w},b}(\\mathbf{x}) =  w_0x_0 + w_1x_1 +... + w_{n-1}x_{n-1} + b \\tag{1}$$\n",
    "\n",
    "ou, usando uma notação vetorial:\n",
    "\n",
    "$$ f_{\\mathbf{w},b}(\\mathbf{x}) = \\mathbf{w} \\cdot \\mathbf{x} + b  \\tag{2} $$ \n",
    "\n",
    "onde $\\cdot$ é o produtor escalar (`dot product`)\n",
    "\n",
    "Para demonstrar o produto escalar, iremos implementar a previsão usando (1) e (2)."
   ]
  },
  {
   "cell_type": "markdown",
   "id": "0dd44f21",
   "metadata": {
    "pycharm": {
     "name": "#%% md\n"
    }
   },
   "source": [
    "\n",
    "## Usando (1) e um loop for\n"
   ]
  },
  {
   "cell_type": "code",
   "execution_count": 6,
   "id": "f7849a73",
   "metadata": {
    "pycharm": {
     "name": "#%%\n"
    }
   },
   "outputs": [],
   "source": [
    "def previsao_usando_loop_for(x, w, b): \n",
    "    \"\"\"\n",
    "    faz uma previsão usando loop for\n",
    "    \n",
    "    Args:\n",
    "      x (ndarray): Shape (n,) -> exemplo contendo múltiplas características\n",
    "      w (ndarray): Shape (n,) -> parâmetros w do modelo\n",
    "      b (scalar):  parâmetro b do modelo\n",
    "      \n",
    "    retorna:\n",
    "      p (scalar):  previsão\n",
    "    \"\"\"\n",
    "    n = x.shape[0]\n",
    "    p = 0\n",
    "    for i in range(n):\n",
    "        p_i = x[i] * w[i]  \n",
    "        p = p + p_i         \n",
    "    p = p + b                \n",
    "    return p"
   ]
  },
  {
   "cell_type": "code",
   "execution_count": 7,
   "id": "97516175",
   "metadata": {
    "pycharm": {
     "name": "#%%\n"
    }
   },
   "outputs": [
    {
     "name": "stdout",
     "output_type": "stream",
     "text": [
      "x_vec shape (4,), x_vec: [2104    5    1   45]\n",
      "f_wb shape (), previsão: 459.9999976194083\n"
     ]
    }
   ],
   "source": [
    "# pegando uma linha do nosso conjunto de dados\n",
    "x_vec = X_train[0,:]\n",
    "print(f\"x_vec shape {x_vec.shape}, x_vec: {x_vec}\")\n",
    "\n",
    "# fazendo previsão para essa casa\n",
    "f_wb = previsao_usando_loop_for(x_vec, w_init, b_init)\n",
    "print(f\"f_wb shape {f_wb.shape}, previsão: {f_wb}\")"
   ]
  },
  {
   "cell_type": "markdown",
   "id": "3475821f",
   "metadata": {
    "pycharm": {
     "name": "#%% md\n"
    }
   },
   "source": [
    "Note que o shape do `x_vec` é 1-D NumPy vector com 4 elementos, ou seja, (4,). Já o resultado da previsão, `f_wb`, é um escalar."
   ]
  },
  {
   "cell_type": "markdown",
   "id": "2f4f4c5d",
   "metadata": {
    "pycharm": {
     "name": "#%% md\n"
    }
   },
   "source": [
    "\n",
    "## Usando (2) e o produto escalar para termos uma versão vetorizada"
   ]
  },
  {
   "cell_type": "code",
   "execution_count": 8,
   "id": "c2766634",
   "metadata": {
    "pycharm": {
     "name": "#%%\n"
    }
   },
   "outputs": [],
   "source": [
    "def previsao(x, w, b): \n",
    "    \"\"\"\n",
    "    Args:\n",
    "      x (ndarray): Shape (n,) -> exemplo contendo múltiplas características\n",
    "      w (ndarray): Shape (n,) -> parâmetros w do modelo\n",
    "      b (scalar):  parâmetro b do modelo\n",
    "      \n",
    "    retorna:\n",
    "      p (scalar):  previsão\n",
    "    \"\"\"\n",
    "    p = np.dot(x, w) + b     \n",
    "    return p    "
   ]
  },
  {
   "cell_type": "code",
   "execution_count": 9,
   "id": "aaa8a90a",
   "metadata": {
    "pycharm": {
     "name": "#%%\n"
    }
   },
   "outputs": [
    {
     "name": "stdout",
     "output_type": "stream",
     "text": [
      "x_vec shape (4,), x_vec: [2104    5    1   45]\n",
      "f_wb shape (), previsão: 459.9999976194083\n"
     ]
    }
   ],
   "source": [
    "# pegando uma linha do nosso conjunto de dados\n",
    "x_vec = X_train[0,:]\n",
    "print(f\"x_vec shape {x_vec.shape}, x_vec: {x_vec}\")\n",
    "\n",
    "# fazendo previsão para essa casa\n",
    "f_wb = previsao(x_vec, w_init, b_init)\n",
    "print(f\"f_wb shape {f_wb.shape}, previsão: {f_wb}\")"
   ]
  },
  {
   "cell_type": "markdown",
   "id": "c848f0ba",
   "metadata": {
    "pycharm": {
     "name": "#%% md\n"
    }
   },
   "source": [
    "# Calculando o custo quando o modelo possui múltiplas características\n",
    "A função custo $J(\\mathbf{w},b)$ quando temos múltiplas características é dada por:\n",
    "$$J(\\mathbf{w},b) = \\frac{1}{2m} \\sum\\limits_{i = 0}^{m-1} (f_{\\mathbf{w},b}(\\mathbf{x}^{(i)}) - y^{(i)})^2 \\tag{3}$$ \n",
    "onde:\n",
    "$$ f_{\\mathbf{w},b}(\\mathbf{x}^{(i)}) = \\mathbf{w} \\cdot \\mathbf{x}^{(i)} + b  \\tag{4} $$ \n",
    "\n",
    "\n",
    "Diferentemente dos nossos códigos anteriores, agora $\\mathbf{w}$ e $\\mathbf{x}^{(i)}$ são vetores ao invés de escalares."
   ]
  },
  {
   "cell_type": "markdown",
   "id": "f1b5fc8c",
   "metadata": {
    "pycharm": {
     "name": "#%% md\n"
    }
   },
   "source": [
    "Abaixo encontram-se uma implementação das equações (3) and (4)."
   ]
  },
  {
   "cell_type": "code",
   "execution_count": 10,
   "id": "0ec89357",
   "metadata": {
    "pycharm": {
     "name": "#%%\n"
    }
   },
   "outputs": [],
   "source": [
    "def calcula_custo(X, y, w, b): \n",
    "    \"\"\"\n",
    "    Calcula o custo\n",
    "    Args:\n",
    "      X (ndarray (m,n)): Dados, contendo m exemplos com n características\n",
    "      y (ndarray (m,)) : valores alvo\n",
    "      w (ndarray (n,)) : parâmetros w do modelo  \n",
    "      b (scalar)       : parâmetro b do modelo\n",
    "      \n",
    "    Retorna:\n",
    "      custo (escalar): custo\n",
    "    \"\"\"\n",
    "    m     = X.shape[0]\n",
    "    custo = 0.0\n",
    "    for i in range(m):                                \n",
    "        f_wb_i = np.dot(X[i], w) + b           #(n,)(n,) = escalar (see np.dot)\n",
    "        custo = custo + (f_wb_i - y[i])**2     # escalar\n",
    "    custo = custo / (2 * m)                    # escalar    \n",
    "    return custo"
   ]
  },
  {
   "cell_type": "code",
   "execution_count": 11,
   "id": "652c5388",
   "metadata": {
    "pycharm": {
     "name": "#%%\n"
    }
   },
   "outputs": [
    {
     "name": "stdout",
     "output_type": "stream",
     "text": [
      "Custo com parâmetros ótimos: 1.5578904428966628e-12\n"
     ]
    }
   ],
   "source": [
    "# Calcula e mostra o custo usando os nossos parâmetros ótimos escolhidos previamente \n",
    "custo = calcula_custo(X_train, y_train, w_init, b_init)\n",
    "print(f'Custo com parâmetros ótimos: {custo}')"
   ]
  },
  {
   "cell_type": "markdown",
   "id": "49f3c105",
   "metadata": {
    "pycharm": {
     "name": "#%% md\n"
    }
   },
   "source": [
    "**Resultado esperado**: 1.5578904045996674e-12"
   ]
  },
  {
   "cell_type": "markdown",
   "id": "4d998888",
   "metadata": {
    "pycharm": {
     "name": "#%% md\n"
    }
   },
   "source": [
    "# Método do Gradiente com Múltiplas Variáveis\n",
    "\n",
    "Método do Gradiente com Múltiplas Variáveis:\n",
    "\n",
    "$$\\begin{align*} \\text{repetir}&\\text{ até convergir:} \\; \\lbrace \\newline\\;\n",
    "& w_j = w_j -  \\alpha \\frac{\\partial J(\\mathbf{w},b)}{\\partial w_j} \\tag{5}  \\; & \\text{para j = 0..n-1}\\newline\n",
    "&b\\ \\ = b -  \\alpha \\frac{\\partial J(\\mathbf{w},b)}{\\partial b}  \\newline \\rbrace\n",
    "\\end{align*}$$\n",
    "\n",
    "onde, n é o número de características, parâmetros $w_j$ e $b$ são atualizados simultaneamente e onde  \n",
    "\n",
    "$$\n",
    "\\begin{align}\n",
    "\\frac{\\partial J(\\mathbf{w},b)}{\\partial w_j}  &= \\frac{1}{m} \\sum\\limits_{i = 0}^{m-1} (f_{\\mathbf{w},b}(\\mathbf{x}^{(i)}) - y^{(i)})x_{j}^{(i)} \\tag{6}  \\\\\n",
    "\\frac{\\partial J(\\mathbf{w},b)}{\\partial b}  &= \\frac{1}{m} \\sum\\limits_{i = 0}^{m-1} (f_{\\mathbf{w},b}(\\mathbf{x}^{(i)}) - y^{(i)}) \\tag{7}\n",
    "\\end{align}\n",
    "$$\n",
    "* m é o número de amostras de treinamento no nosso conjunto de dados\n",
    "\n",
    "    \n",
    "*  $f_{\\mathbf{w},b}(\\mathbf{x}^{(i)})$ é a previsão feita pelo modelo, enquanto que $y^{(i)}$ é o valor alvo\n"
   ]
  },
  {
   "cell_type": "markdown",
   "id": "72c7ab1b",
   "metadata": {
    "pycharm": {
     "name": "#%% md\n"
    }
   },
   "source": [
    "## Calculando o gradiente\n",
    "\n",
    "Abaixo encontra-se uma implementação para calcular as equações (6) e (7). Existe muitas formas para se implementar isso. Certifique-se que você compreendeu a implementação.\n",
    "   "
   ]
  },
  {
   "cell_type": "code",
   "execution_count": 12,
   "id": "f0f29948",
   "metadata": {
    "pycharm": {
     "name": "#%%\n"
    }
   },
   "outputs": [],
   "source": [
    "def calcula_gradiente(X, y, w, b): \n",
    "    \"\"\"\n",
    "    Calcula Gradiente para Regressão Linear\n",
    "    Args:\n",
    "      X (ndarray (m,n)): Dados, contendo m exemplos com n características\n",
    "      y (ndarray (m,)) : valores alvo\n",
    "      w (ndarray (n,)) : parâmetros w do modelo  \n",
    "      b (scalar)       : parâmetro b do modelo\n",
    "      \n",
    "    Retorna:\n",
    "      dj_dw (ndarray (n,)): O gradiente da função custo com relação aos parâmetros w. \n",
    "      dj_db (escalar):      O gradiente da função custo com relação ao parâmetro b. \n",
    "    \"\"\"\n",
    "    m,n = X.shape           #(número de exemplos, número de características)\n",
    "    dj_dw = np.zeros((n,))\n",
    "    dj_db = 0.\n",
    "\n",
    "    for i in range(m):                             \n",
    "        erro = (np.dot(X[i], w) + b) - y[i]   \n",
    "        for j in range(n):                         \n",
    "            dj_dw[j] = dj_dw[j] + erro * X[i, j] # Calcula para todas as características   \n",
    "        dj_db = dj_db + erro                        \n",
    "    dj_dw = dj_dw / m                                \n",
    "    dj_db = dj_db / m # TODO: Verificar m? número de amostras de treinamento                  \n",
    "        \n",
    "    return dj_db, dj_dw"
   ]
  },
  {
   "cell_type": "code",
   "execution_count": 13,
   "id": "839b5e62",
   "metadata": {
    "pycharm": {
     "name": "#%%\n"
    }
   },
   "outputs": [
    {
     "name": "stdout",
     "output_type": "stream",
     "text": [
      "dj_db com valores iniciais para w,b: -1.6739251501955248e-06\n",
      "dj_dw com valores iniciais para w,b: \n",
      " [-2.73e-03 -6.27e-06 -2.22e-06 -6.92e-05]\n"
     ]
    }
   ],
   "source": [
    "# Calcula e mostra o gradiente\n",
    "tmp_dj_db, tmp_dj_dw = calcula_gradiente(X_train, y_train, w_init, b_init)\n",
    "print(f'dj_db com valores iniciais para w,b: {tmp_dj_db}')\n",
    "print(f'dj_dw com valores iniciais para w,b: \\n {tmp_dj_dw}')"
   ]
  },
  {
   "cell_type": "markdown",
   "id": "426cbe05",
   "metadata": {
    "pycharm": {
     "name": "#%% md\n"
    }
   },
   "source": [
    "**Resultados Esperados**:   \n",
    "dj_db com valores iniciais w,b: -1.6739251122999121e-06  \n",
    "dj_dw com valores iniciais w,b:   \n",
    " [-2.73e-03 -6.27e-06 -2.22e-06 -6.92e-05]  "
   ]
  },
  {
   "cell_type": "markdown",
   "id": "03b1937a",
   "metadata": {
    "pycharm": {
     "name": "#%% md\n"
    }
   },
   "source": [
    "## Método do Gradiente com múltiplas características\n",
    "\n",
    "A rotina a seguir implementa a equação (5)"
   ]
  },
  {
   "cell_type": "code",
   "execution_count": 14,
   "id": "e95f471c",
   "metadata": {
    "pycharm": {
     "name": "#%%\n"
    }
   },
   "outputs": [],
   "source": [
    "def metodo_do_gradiente(X, y, w_in, b_in, calcula_custo, calcula_gradiente, alpha, num_iters): \n",
    "    \"\"\"\n",
    "    Performa Método do Gradiente para aprender w e b. Atualiza w e b ao longo de  \n",
    "    num_iters passos de iteração usando uma taxa de aprendizado alpha\n",
    "    \n",
    "    Args:\n",
    "      X (ndarray (m,n))   : Dados, contendo m exemplos com n características\n",
    "      y (ndarray (m,))    : valores alvo\n",
    "      w_in (ndarray (n,)) : valores iniciais dos parâmetros w do modelo  \n",
    "      b_in (escalar)      : valor inicial do parâmetro b do modelo\n",
    "      calcula_custo       : função que calcula o custo\n",
    "      calcula_gradiente   : função que calcula o gradiente\n",
    "      alpha (float)       : taxa de aprendizado\n",
    "      num_iters (int)     : Número de iterações para o método do gradiente\n",
    "      \n",
    "    Retorna:\n",
    "      w (ndarray (n,)) : Valores atualizados para os parâmetros w\n",
    "      b (scalar)       : Valores atualizado para o parâmetro b \n",
    "      \"\"\"\n",
    "    \n",
    "    # Valores históricos\n",
    "    J_history = []\n",
    "    w = w_in\n",
    "    b = b_in\n",
    "    \n",
    "    for i in range(num_iters):\n",
    "\n",
    "        # Calcula o gradiente\n",
    "        dj_db,dj_dw = calcula_gradiente(X, y, w, b)  \n",
    "\n",
    "        # Atualiza os parâmetros\n",
    "        w = w - alpha * dj_dw               \n",
    "        b = b - alpha * dj_db              \n",
    "      \n",
    "        # Salva o custo\n",
    "        if i<100000:      # prevent resource exhaustion \n",
    "            J_history.append( calcula_custo(X, y, w, b))\n",
    "\n",
    "        # Faz print de tempos em tempos\n",
    "        if i% math.ceil(num_iters / 10) == 0:\n",
    "            print(f\"Iteração {i:4d}: Custo {J_history[-1]:8.2f}   \")\n",
    "        \n",
    "    return w, b, J_history # retorna valores finais e históricos"
   ]
  },
  {
   "cell_type": "markdown",
   "id": "0fc222a6",
   "metadata": {
    "pycharm": {
     "name": "#%% md\n"
    }
   },
   "source": [
    "Na célula a seguir testamos a implementação"
   ]
  },
  {
   "cell_type": "code",
   "execution_count": 15,
   "id": "3a5ac992",
   "metadata": {
    "pycharm": {
     "name": "#%%\n"
    }
   },
   "outputs": [
    {
     "name": "stdout",
     "output_type": "stream",
     "text": [
      "Iteração    0: Custo  2529.46   \n",
      "Iteração  100: Custo   695.99   \n",
      "Iteração  200: Custo   694.92   \n",
      "Iteração  300: Custo   693.86   \n",
      "Iteração  400: Custo   692.81   \n",
      "Iteração  500: Custo   691.77   \n",
      "Iteração  600: Custo   690.73   \n",
      "Iteração  700: Custo   689.71   \n",
      "Iteração  800: Custo   688.70   \n",
      "Iteração  900: Custo   687.69   \n",
      "b,w encontrados pelo método do gradiente: -0.00,[ 0.2   0.   -0.01 -0.07] \n",
      "previsão: 426.19, valor alvo: 460\n",
      "previsão: 286.17, valor alvo: 232\n",
      "previsão: 171.47, valor alvo: 178\n"
     ]
    }
   ],
   "source": [
    "# inicializando parâmetros\n",
    "initial_w = np.zeros_like(w_init)\n",
    "initial_b = 0.\n",
    "# parâmetros para rodar o Método do Gradiente:\n",
    "iterations = 1000\n",
    "alpha      = 5.0e-7\n",
    "# Rodando o Método do gradiente \n",
    "w_final, b_final, J_hist = metodo_do_gradiente(X_train, y_train, initial_w, initial_b,\n",
    "                                                    calcula_custo, calcula_gradiente, \n",
    "                                                    alpha, iterations)\n",
    "print(f\"b,w encontrados pelo método do gradiente: {b_final:0.2f},{w_final} \")\n",
    "m,_ = X_train.shape\n",
    "for i in range(m):\n",
    "    print(f\"previsão: {np.dot(X_train[i], w_final) + b_final:0.2f}, valor alvo: {y_train[i]}\")"
   ]
  },
  {
   "cell_type": "markdown",
   "id": "cd03c18a",
   "metadata": {
    "pycharm": {
     "name": "#%% md\n"
    }
   },
   "source": [
    "**Resultados Esperados**:    \n",
    "b,w encotrados pelo método do gradiente: -0.00,[ 0.2   0.   -0.01 -0.07]   \n",
    "previsão: 426.19, valor alvo: 460  \n",
    "previsão: 286.17, valor alvo: 232  \n",
    "previsão: 171.47, valor alvo: 178  "
   ]
  },
  {
   "cell_type": "code",
   "execution_count": 16,
   "id": "06159dde",
   "metadata": {
    "pycharm": {
     "name": "#%%\n"
    }
   },
   "outputs": [
    {
     "data": {
      "image/png": "[encoded data removed]",
      "text/plain": [
       "<Figure size 1200x400 with 2 Axes>"
      ]
     },
     "metadata": {},
     "output_type": "display_data"
    }
   ],
   "source": [
    "# Plotando os resultados\n",
    "fig, (ax1, ax2) = plt.subplots(1, 2, constrained_layout=True, figsize=(12, 4))\n",
    "ax1.plot(J_hist)\n",
    "ax2.plot(100 + np.arange(len(J_hist[100:])), J_hist[100:])\n",
    "ax1.set_title(\"Custo vs. iteração\");  ax2.set_title(\"Custo vs. iteração (cauda do gráfico)\")\n",
    "ax1.set_ylabel('Custo')             ;  ax2.set_ylabel('Custo') \n",
    "ax1.set_xlabel('iteração')   ;  ax2.set_xlabel('iteração') \n",
    "plt.show()"
   ]
  },
  {
   "cell_type": "markdown",
   "id": "1e01cf89",
   "metadata": {
    "pycharm": {
     "name": "#%% md\n"
    }
   },
   "source": [
    "*Estes resultados ainda não são os melhores*! O custo ainda está caindo e nossas previsões não estão tão precisas. No próximo código nós vamos descobrir como melhorar isso."
   ]
  },
  {
   "cell_type": "markdown",
   "id": "d7b12e72",
   "metadata": {
    "pycharm": {
     "name": "#%% md\n"
    }
   },
   "source": [
    "# Parabéns!\n",
    "Com este código você:\n",
    "- Redesenvolveu as rotinas para Regressão Linear, agora com múltiplas variáveis.\n",
    "- Utilizou NumPy `np.dot` para vetorizar as implementações"
   ]
  },
  {
   "cell_type": "code",
   "execution_count": null,
   "id": "7b8f282e",
   "metadata": {
    "pycharm": {
     "name": "#%%\n"
    }
   },
   "outputs": [],
   "source": []
  },
  {
   "attachments": {},
   "cell_type": "markdown",
   "id": "82f81220",
   "metadata": {},
   "source": [
    "# Exercício\n",
    "\n",
    "1. Quais foram os valores obtidos para <b>w</b> e b?\n",
    "* w0 = 0.2\n",
    "* w1 = 0\n",
    "* w2 = -0.01\n",
    "* w3 = -0.07\n",
    "* b = -0.00\n",
    "\n",
    "2. Esses valores são os melhores possíveis\n",
    "* Não são, eles não otimizaram muito bem a equação\n",
    "\n",
    "3. O que pode estar acontecendo?\n",
    "* O número baixo de amostras\n",
    "* Baixo número de interações\n",
    "* Baixa taixa de aprendizado \n",
    "* Os dados possuem valores muito diferentes\n",
    "\n",
    "4. Rode novamente o Método do Gradiente inicializando <b>w</b> e b num local mais próximo do ótimo. Quais foram os valores agora obtidos para <b>w</b> e b?\n",
    "* w0 = 0.38\n",
    "* w1 = 12\n",
    "* w2 = -53\n",
    "* w3 = -26.01\n",
    "* b = 785\n"
   ]
  },
  {
   "cell_type": "code",
   "execution_count": 17,
   "id": "93fd336e",
   "metadata": {},
   "outputs": [
    {
     "name": "stdout",
     "output_type": "stream",
     "text": [
      "Iteração    0: Custo  6550.51   \n",
      "Iteração  100: Custo     8.87   \n",
      "Iteração  200: Custo     8.79   \n",
      "Iteração  300: Custo     8.71   \n",
      "Iteração  400: Custo     8.63   \n",
      "Iteração  500: Custo     8.56   \n",
      "Iteração  600: Custo     8.48   \n",
      "Iteração  700: Custo     8.41   \n",
      "Iteração  800: Custo     8.33   \n",
      "Iteração  900: Custo     8.26   \n",
      "b,w encontrados pelo método do gradiente: 785.00,[  0.38  18.   -53.   -26.01] \n",
      "previsão: 456.29, valor alvo: 460\n",
      "previsão: 234.19, valor alvo: 232\n",
      "previsão: 183.53, valor alvo: 178\n"
     ]
    }
   ],
   "source": [
    "# inicializando parâmetros\n",
    "initial_b = 785.\n",
    "initial_w = np.array([ 0., 18., -53., -26.])\n",
    "# parâmetros para rodar o Método do Gradiente:\n",
    "iterations = 1000\n",
    "alpha      = 5.0e-7\n",
    "# Rodando o Método do gradiente \n",
    "w_final, b_final, J_hist = metodo_do_gradiente(X_train, y_train, initial_w, initial_b,\n",
    "                                                    calcula_custo, calcula_gradiente, \n",
    "                                                    alpha, iterations)\n",
    "print(f\"b,w encontrados pelo método do gradiente: {b_final:0.2f},{w_final} \")\n",
    "m,_ = X_train.shape\n",
    "for i in range(m):\n",
    "    print(f\"previsão: {np.dot(X_train[i], w_final) + b_final:0.2f}, valor alvo: {y_train[i]}\")"
   ]
  },
  {
   "cell_type": "code",
   "execution_count": 18,
   "id": "c4c5f4b1",
   "metadata": {},
   "outputs": [
    {
     "data": {
      "image/png": "[encoded data removed]",
      "text/plain": [
       "<Figure size 1200x400 with 2 Axes>"
      ]
     },
     "metadata": {},
     "output_type": "display_data"
    }
   ],
   "source": [
    "# Plotando os resultados\n",
    "fig, (ax1, ax2) = plt.subplots(1, 2, constrained_layout=True, figsize=(12, 4))\n",
    "ax1.plot(J_hist)\n",
    "ax2.plot(100 + np.arange(len(J_hist[100:])), J_hist[100:])\n",
    "ax1.set_title(\"Custo vs. iteração\");  ax2.set_title(\"Custo vs. iteração (cauda do gráfico)\")\n",
    "ax1.set_ylabel('Custo')             ;  ax2.set_ylabel('Custo') \n",
    "ax1.set_xlabel('iteração')   ;  ax2.set_xlabel('iteração') \n",
    "plt.show()"
   ]
  }
 ],
 "metadata": {
  "dl_toc_settings": {
   "rndtag": "15456"
  },
  "kernelspec": {
   "display_name": "Python 3 (ipykernel)",
   "language": "python",
   "name": "python3"
  },
  "language_info": {
   "codemirror_mode": {
    "name": "ipython",
    "version": 3
   },
   "file_extension": ".py",
   "mimetype": "text/x-python",
   "name": "python",
   "nbconvert_exporter": "python",
   "pygments_lexer": "ipython3",
   "version": "3.9.13"
  },
  "toc-autonumbering": false
 },
 "nbformat": 4,
 "nbformat_minor": 5
}
