{
 "cells": [
  {
   "cell_type": "markdown",
   "metadata": {
    "tags": []
   },
   "source": [
    "# Neurônios e camadas\n",
    "\n",
    "Neste código nós iremos explorar o funcionamento interno dos neurônios (que são as unidades elementares da nossa rede neural) e das camadas.\n",
    "\n",
    "Especificamente, este código fará paralelos com modelos que você já aprendeu em aulas anteriores: o modelo de regressão linear e o modelo de regressão logística. \n",
    "\n",
    "O código faz isso por meio da ferramenta denominada TensorFlow, que consiste num ambiente bastante utilizado hoje no contexto de Aprendizado de Máquina."
   ]
  },
  {
   "cell_type": "markdown",
   "metadata": {},
   "source": [
    "## Pacotes\n",
    "\n",
    "**Tensorflow e Keras**  \n",
    "Tensorflow é um pacote de machine learning desenvolvido pela Google. Em 2019, Google integrou Keras ao Tensorflow e lançou o Tensorflow 2.0. Keras é um ambiente desenvolvido independentemente por François Chollet. Esse ambiente cria uma interface simples que facilita o uso do Tensorflow. "
   ]
  },
  {
   "cell_type": "markdown",
   "metadata": {},
   "source": [
    "Caso você esteja utilizando Google Colab, provavelmente o TensorFlow já encontra-se instalado no servidor que rodará o seu código. Portanto, os comandos abaixo serão reconhecidos automaticamente.\n",
    "\n",
    "Por outro lado, caso você esteja utilizando o localhost do Jupyter, talvez você terá que instalar o TensorFlow no seu Ambiente Anaconda. Para fazer isso:\n",
    "- Veja o seguinte tutorial https://docs.anaconda.com/anaconda/user-guide/tasks/tensorflow/\n",
    "- Caso não tenha funcionado para você a opção acima, pesquise no google algum outro tutorial usando os seguintes termos de busca: ``how to install tensorflow in anaconda'' \n",
    "- Depois de instalar, feche e abra o Jupyter novamente\n",
    "- Caso não tenha funcionado para você a opção acima, tente instalar o tensorflow usando um outro ambiente de programação em Python. Por exemplo, abra o Spyder e rode o seguinte comando: pip install tensorflow\n",
    "- Caso nada disso funcione em seu computador, considere utilizar o Google Colab"
   ]
  },
  {
   "cell_type": "code",
   "execution_count": 1,
   "metadata": {},
   "outputs": [],
   "source": [
    "import numpy as np\n",
    "import matplotlib.pyplot as plt\n",
    "import tensorflow as tf\n",
    "from tensorflow.keras.layers import Dense, Input\n",
    "from tensorflow.keras import Sequential\n",
    "from tensorflow.keras.activations import sigmoid\n",
    "import logging\n",
    "logging.getLogger(\"tensorflow\").setLevel(logging.ERROR)\n",
    "tf.autograph.set_verbosity(0)"
   ]
  },
  {
   "cell_type": "markdown",
   "metadata": {},
   "source": [
    "## Neurônio sem ativação - Modelo de Regressão Linear\n"
   ]
  },
  {
   "cell_type": "markdown",
   "metadata": {
    "tags": []
   },
   "source": [
    "### Conjunto de dados\n",
    "\n",
    "Nesse contexto de regressão linear, usaremos o exemplo abaixo."
   ]
  },
  {
   "cell_type": "code",
   "execution_count": 2,
   "metadata": {
    "tags": []
   },
   "outputs": [
    {
     "data": {
      "image/png": "[encoded data removed]",
      "text/plain": [
       "<Figure size 432x288 with 1 Axes>"
      ]
     },
     "metadata": {
      "needs_background": "light"
     },
     "output_type": "display_data"
    }
   ],
   "source": [
    "X_train = np.array([[1.0], [2.0]], dtype=np.float32)          \n",
    "Y_train = np.array([[300.0], [500.0]], dtype=np.float32)       \n",
    "\n",
    "fig, ax = plt.subplots(1,1)\n",
    "ax.scatter(X_train, Y_train, marker='x', c='r', label=\"Amostras\")\n",
    "ax.set_ylabel('Tensão (Volts)')\n",
    "ax.set_xlabel('Corrente (Àmperes)')\n",
    "plt.show()"
   ]
  },
  {
   "cell_type": "markdown",
   "metadata": {},
   "source": [
    "### Modelo de Regressão Linear\n",
    "\n",
    "Dizemos que um neurônio não possui ativação, quando ele implementa uma regressão linear simples do tipo: \n",
    "$$ f_{\\mathbf{w},b}(x^{(i)}) = \\mathbf{w}\\cdot x^{(i)} + b \\tag{1}$$\n",
    "\n"
   ]
  },
  {
   "cell_type": "markdown",
   "metadata": {},
   "source": [
    "Podemos definir uma camada com um único neurônio (uma única unidade) e comparar seu funcionamento com o da função de regressão linear que já aprendemos."
   ]
  },
  {
   "cell_type": "code",
   "execution_count": 3,
   "metadata": {},
   "outputs": [],
   "source": [
    "camada_linear = tf.keras.layers.Dense(units=1, activation = 'linear', ) # Dense é o tipo de camada de rede neural que nós aprendemos até agora"
   ]
  },
  {
   "cell_type": "markdown",
   "metadata": {},
   "source": [
    "Vamos examinar os pesos presentes nessa camada:"
   ]
  },
  {
   "cell_type": "code",
   "execution_count": 4,
   "metadata": {},
   "outputs": [
    {
     "data": {
      "text/plain": [
       "[]"
      ]
     },
     "execution_count": 4,
     "metadata": {},
     "output_type": "execute_result"
    }
   ],
   "source": [
    "camada_linear.get_weights()"
   ]
  },
  {
   "cell_type": "markdown",
   "metadata": {},
   "source": [
    "Não há pesos nessa camada uma vez que eles ainda não foram inicializados (instanciados). Vamos calcular a saída do modelo (chamada aqui de a1) para um exemplo presente em `X_train`. Isso fará com que os pesos sejam inicializados com valores aleatórios pequenos automaticamente. Note que a entrada para a camada precisa ser 2-D (por isso estamos fazendo o reshape)."
   ]
  },
  {
   "cell_type": "code",
   "execution_count": 5,
   "metadata": {},
   "outputs": [
    {
     "name": "stdout",
     "output_type": "stream",
     "text": [
      "[1.]\n",
      "tf.Tensor([[0.12015367]], shape=(1, 1), dtype=float32)\n"
     ]
    }
   ],
   "source": [
    "print(X_train[0])\n",
    "\n",
    "a1 = camada_linear(X_train[0].reshape(1,1))\n",
    "print(a1)"
   ]
  },
  {
   "cell_type": "markdown",
   "metadata": {},
   "source": [
    "O resultado é um tensor (apenas um outro nome para `array`) com shape (1,1). Ou seja, note que a entrada `X_train[0]=1` entrou na nossa camada e gerou uma saída `a1`.\n",
    "Conforme já mencionado, os pesos do modelo são inicializados automaticamente como valores aleatórios pequenos. O valor padrão para a inicialização dos termos independentes do tipo $b$ é zero."
   ]
  },
  {
   "cell_type": "code",
   "execution_count": 6,
   "metadata": {},
   "outputs": [
    {
     "name": "stdout",
     "output_type": "stream",
     "text": [
      "w = [[0.12015367]], b=[0.]\n"
     ]
    }
   ],
   "source": [
    "w,b = camada_linear.get_weights()\n",
    "print(f\"w = {w}, b={b}\")"
   ]
  },
  {
   "cell_type": "markdown",
   "metadata": {},
   "source": [
    "Faz sentido que o peso $w$ seja 1 e o peso $b$ seja 0, afinal, para uma entrada `X_train[0]=1` obtivemos a saída `a1` acima."
   ]
  },
  {
   "cell_type": "markdown",
   "metadata": {},
   "source": [
    "Observe também que, um modelo de regressão linear (1) com uma única característica de entrada produz um único peso $w$ e um único valor independente $b$. \n",
    "\n",
    "Vamos agora alterar os valores dos pesos (que foram inializados automaticamente) para alguns valores conhecidos:"
   ]
  },
  {
   "cell_type": "code",
   "execution_count": 7,
   "metadata": {},
   "outputs": [
    {
     "name": "stdout",
     "output_type": "stream",
     "text": [
      "[array([[200.]], dtype=float32), array([100.], dtype=float32)]\n"
     ]
    }
   ],
   "source": [
    "set_w = np.array([[200]])\n",
    "set_b = np.array([100])\n",
    "\n",
    "# a função set_weights recebe na sua entrada uma lista de arrays numpy\n",
    "camada_linear.set_weights([set_w, set_b])\n",
    "print(camada_linear.get_weights())"
   ]
  },
  {
   "cell_type": "markdown",
   "metadata": {},
   "source": [
    "Vamos comparar agora a equação (1) com a saída da nossa camada."
   ]
  },
  {
   "cell_type": "code",
   "execution_count": 8,
   "metadata": {},
   "outputs": [
    {
     "name": "stdout",
     "output_type": "stream",
     "text": [
      "tf.Tensor([[300.]], shape=(1, 1), dtype=float32)\n",
      "[[300.]]\n"
     ]
    }
   ],
   "source": [
    "a1 = camada_linear(X_train[0].reshape(1,1))\n",
    "print(a1)\n",
    "alin = np.dot(set_w,X_train[0].reshape(1,1)) + set_b\n",
    "print(alin)"
   ]
  },
  {
   "cell_type": "markdown",
   "metadata": {},
   "source": [
    "Elas produzem os mesmos valores! Isso mostra que estamos de fato implementado o modelo de regressão linear desejado.\n",
    "\n",
    "Vamos agora usar nossa camada linear para fazer previsões com base nos nossos dados de treinamento."
   ]
  },
  {
   "cell_type": "code",
   "execution_count": 9,
   "metadata": {},
   "outputs": [],
   "source": [
    "previsao_tensorflow = camada_linear(X_train)\n",
    "previsao_numpy      = np.dot( X_train, set_w) + set_b"
   ]
  },
  {
   "cell_type": "code",
   "execution_count": 10,
   "metadata": {},
   "outputs": [
    {
     "data": {
      "image/png": "[encoded data removed]",
      "text/plain": [
       "<Figure size 1152x288 with 2 Axes>"
      ]
     },
     "metadata": {
      "needs_background": "light"
     },
     "output_type": "display_data"
    }
   ],
   "source": [
    "fig, ax = plt.subplots(1,2, figsize=(16,4))\n",
    "ax[0].scatter(X_train, Y_train, marker='x', c='r', label=\"Dados\")\n",
    "ax[0].plot(X_train, previsao_tensorflow,  c='blue', label=\"Saída do modelo\")\n",
    "ax[0].text(1.6,350,r\"y=$200 x + 100$\", fontsize='xx-large', color='magenta')\n",
    "ax[0].legend(fontsize='xx-large')\n",
    "ax[0].set_ylabel('Tensão (Volts)', fontsize='xx-large')\n",
    "ax[0].set_xlabel('Corrente (Àmperes)', fontsize='xx-large')\n",
    "ax[0].set_title(\"Previsão feita com Tensorflow\",fontsize='xx-large')\n",
    "\n",
    "ax[1].scatter(X_train, Y_train, marker='x', c='r', label=\"Dados\")\n",
    "ax[1].plot(X_train, previsao_numpy,  c='blue', label=\"Saída do modelo\")\n",
    "ax[1].text(1.6,350,r\"y=$200 x + 100$\", fontsize='xx-large', color='magenta')\n",
    "ax[1].legend(fontsize='xx-large')\n",
    "ax[1].set_ylabel('Tensão (Volts)', fontsize='xx-large')\n",
    "ax[1].set_xlabel('Corrente (Àmperes)', fontsize='xx-large')\n",
    "ax[1].set_title(\"Previsão feita com Numpy\",fontsize='xx-large')\n",
    "plt.show()"
   ]
  },
  {
   "cell_type": "markdown",
   "metadata": {},
   "source": [
    "## Neurônio com ativação sigmoide - Modelo de Regressão Logística\n",
    "\n",
    "A função implementada por um/a neurônio/unidade com ativação sigmoide consiste no nosso modelo de regressão logística já aprendido:\n",
    "$$ f_{\\mathbf{w},b}(x^{(i)}) = g(\\mathbf{w}x^{(i)} + b) \\tag{2}$$\n",
    "onde $$g(x) = sigmoid(x)$$ \n",
    "\n",
    "Vamos definir $w$ e $b$ para valores conhecidos para checar o modelo.\n"
   ]
  },
  {
   "cell_type": "markdown",
   "metadata": {
    "tags": []
   },
   "source": [
    "### Conjunto de dados"
   ]
  },
  {
   "cell_type": "code",
   "execution_count": 11,
   "metadata": {},
   "outputs": [],
   "source": [
    "X_train = np.array([0., 1, 2, 3, 4, 5], dtype=np.float32).reshape(-1,1)  # Matriz 2-D \n",
    "Y_train = np.array([0,  0, 0, 1, 1, 1], dtype=np.float32).reshape(-1,1)  # Matriz 2-D "
   ]
  },
  {
   "cell_type": "code",
   "execution_count": 12,
   "metadata": {},
   "outputs": [
    {
     "data": {
      "image/png": "[encoded data removed]",
      "text/plain": [
       "<Figure size 288x216 with 1 Axes>"
      ]
     },
     "metadata": {
      "needs_background": "light"
     },
     "output_type": "display_data"
    }
   ],
   "source": [
    "pos = Y_train == 1\n",
    "neg = Y_train == 0\n",
    "\n",
    "fig,ax = plt.subplots(1,1,figsize=(4,3))\n",
    "ax.scatter(X_train[pos], Y_train[pos], marker='x', s=80, c = 'red', label=\"y=1\")\n",
    "ax.scatter(X_train[neg], Y_train[neg], marker='o', s=100, label=\"y=0\", facecolors='none', \n",
    "              edgecolors=\"blue\",lw=3)\n",
    "\n",
    "ax.set_ylim(-0.08,1.1)\n",
    "ax.set_ylabel('y', fontsize=12)\n",
    "ax.set_xlabel('x', fontsize=12)\n",
    "ax.legend(fontsize=12)\n",
    "plt.show()"
   ]
  },
  {
   "cell_type": "markdown",
   "metadata": {},
   "source": [
    "### Neurônio Logístico (sigmoide)\n",
    "\n",
    "Nós podemos implementar um 'neurônio logístico' adicionando uma ativação sigmoide. Esse neurônio então estará implemetando a equação (2) acima.\n",
    "\n",
    "Essa seção irá criar um Modelo Tensorflow que contém nossa camada logística para demonstrar um método alternativo para criar modelos. Tensorflow é mais frequentemente usado para criar modelos com múltiplas camadas. O modelo sequencial [Sequential](https://keras.io/guides/sequential_model/) é uma forma conveniente de construir esses modelos."
   ]
  },
  {
   "cell_type": "code",
   "execution_count": 13,
   "metadata": {
    "tags": []
   },
   "outputs": [],
   "source": [
    "modelo = Sequential( # Sequencial é o comando que podemos usar para criar uma rede neural com múltiplas camadas usando apenas um comando. Nesse caso, nossa rede possui apenas uma camada\n",
    "    [\n",
    "        tf.keras.layers.Dense(units=1, input_dim=1,  activation = 'sigmoid', name='L1') # Dense é o tipo de camada de rede neural que nós aprendemos até agora\n",
    "    ]\n",
    ")"
   ]
  },
  {
   "cell_type": "markdown",
   "metadata": {},
   "source": [
    "A função `model.summary()` mostra um resumo do modelo (camadas e o número de parâmetros do modelo):\n",
    "- Há apenas uma camada nesse modelo\n",
    "- Essa camada possui apenas uma unidade\n",
    "- Essa unidade possui dois parâmetros, $w$ e $b$."
   ]
  },
  {
   "cell_type": "code",
   "execution_count": 14,
   "metadata": {},
   "outputs": [
    {
     "name": "stdout",
     "output_type": "stream",
     "text": [
      "Model: \"sequential\"\n",
      "_________________________________________________________________\n",
      " Layer (type)                Output Shape              Param #   \n",
      "=================================================================\n",
      " L1 (Dense)                  (None, 1)                 2         \n",
      "                                                                 \n",
      "=================================================================\n",
      "Total params: 2\n",
      "Trainable params: 2\n",
      "Non-trainable params: 0\n",
      "_________________________________________________________________\n"
     ]
    }
   ],
   "source": [
    "modelo.summary()"
   ]
  },
  {
   "cell_type": "code",
   "execution_count": 15,
   "metadata": {},
   "outputs": [
    {
     "name": "stdout",
     "output_type": "stream",
     "text": [
      "[[-0.01524246]] [0.]\n",
      "(1, 1) (1,)\n"
     ]
    }
   ],
   "source": [
    "camada_logistica = modelo.get_layer('L1')\n",
    "w,b = camada_logistica.get_weights()\n",
    "print(w,b)\n",
    "print(w.shape,b.shape)"
   ]
  },
  {
   "cell_type": "markdown",
   "metadata": {},
   "source": [
    "Note o parâmetro $w$ foi inicializado com um valor aleatório pequeno e $b$ foi inicializado em zero."
   ]
  },
  {
   "cell_type": "markdown",
   "metadata": {},
   "source": [
    "Vamos definir valores desejados para esses dois parâmetros"
   ]
  },
  {
   "cell_type": "code",
   "execution_count": 16,
   "metadata": {},
   "outputs": [
    {
     "name": "stdout",
     "output_type": "stream",
     "text": [
      "[array([[2.]], dtype=float32), array([-4.5], dtype=float32)]\n"
     ]
    }
   ],
   "source": [
    "set_w = np.array([[2]])\n",
    "set_b = np.array([-4.5])\n",
    "# a função set_weights recebe na sua entrada uma lista de arrays numpy\n",
    "camada_logistica.set_weights([set_w, set_b])\n",
    "print(camada_logistica.get_weights())"
   ]
  },
  {
   "cell_type": "markdown",
   "metadata": {},
   "source": [
    "Vamos comparar a equação (2) com a saída da camada."
   ]
  },
  {
   "cell_type": "code",
   "execution_count": 17,
   "metadata": {},
   "outputs": [
    {
     "name": "stdout",
     "output_type": "stream",
     "text": [
      "1/1 [==============================] - 0s 50ms/step\n",
      "[[0.01098694]]\n",
      "[[0.01098694]]\n"
     ]
    }
   ],
   "source": [
    "a1 = modelo.predict(X_train[0].reshape(1,1))\n",
    "print(a1)\n",
    "z    = np.dot(set_w,X_train[0].reshape(1,1)) + set_b;\n",
    "alog = 1.0/(1.0+np.exp(-z))\n",
    "print(alog)"
   ]
  },
  {
   "cell_type": "markdown",
   "metadata": {},
   "source": [
    "Elas produzem os mesmos valores! (=0.01)\n",
    "\n",
    "Agora, nós podemos usar nossa camada logística e o modelo Numpy para fazer previsões com base nos dados de treinamento."
   ]
  },
  {
   "cell_type": "code",
   "execution_count": 18,
   "metadata": {},
   "outputs": [
    {
     "name": "stdout",
     "output_type": "stream",
     "text": [
      "16/16 [==============================] - 0s 1ms/step\n"
     ]
    },
    {
     "data": {
      "image/png": "[encoded data removed]",
      "text/plain": [
       "<Figure size 576x216 with 2 Axes>"
      ]
     },
     "metadata": {
      "needs_background": "light"
     },
     "output_type": "display_data"
    }
   ],
   "source": [
    "pos = Y_train == 1\n",
    "neg = Y_train == 0\n",
    "\n",
    "fig,ax = plt.subplots(1,2,figsize=(8,3))\n",
    "ax[0].scatter(X_train[pos], Y_train[pos], marker='x', s=80, c = 'red', label=\"y=1\")\n",
    "ax[0].scatter(X_train[neg], Y_train[neg], marker='o', s=100, label=\"y=0\", facecolors='none', \n",
    "              edgecolors='b',lw=3)\n",
    "\n",
    "# calculando a saída do modelo tensorflow\n",
    "x = np.arange(0,5,0.01)\n",
    "f = modelo.predict(x.reshape(-1,1))\n",
    "ax[0].plot(x, f.reshape(-1,), c = 'green')\n",
    "\n",
    "ax[0].set_ylim(-0.08,1.1)\n",
    "ax[0].set_ylabel('y', fontsize=12)\n",
    "ax[0].set_xlabel('x', fontsize=12)\n",
    "ax[0].set_title('saída do modelo Tensorflow (probabilidade)')\n",
    "ax[0].legend()\n",
    "\n",
    "\n",
    "\n",
    "ax[1].scatter(X_train[pos], Y_train[pos], marker='x', s=80, c = 'red', label=\"y=1\")\n",
    "ax[1].scatter(X_train[neg], Y_train[neg], marker='o', s=100, label=\"y=0\", facecolors='none', \n",
    "              edgecolors='b',lw=3)\n",
    "\n",
    "# calculando a saída do modelo numpy\n",
    "x = np.arange(0,5,0.01)\n",
    "z = set_w*x + set_b\n",
    "f = 1.0/(1.0+np.exp(-z))\n",
    "ax[1].plot(x, f.reshape(-1,), c = 'green')\n",
    "\n",
    "ax[1].set_ylim(-0.08,1.1)\n",
    "ax[1].set_ylabel('y', fontsize=12)\n",
    "ax[1].set_xlabel('x', fontsize=12)\n",
    "ax[1].set_title('saída do modelo Numpy (probabilidade)')\n",
    "ax[1].legend()\n",
    "\n",
    "\n",
    "plt.tight_layout()\n",
    "plt.show()"
   ]
  },
  {
   "cell_type": "markdown",
   "metadata": {},
   "source": [
    "# Parabéns!\n",
    "\n",
    "Você construiu uma rede neural bastante simples e explorou as similaridades de um neurônio tanto no contexto da regressão linear como também no contexto da regressão lógistica."
   ]
  }
 ],
 "metadata": {
  "kernelspec": {
   "display_name": "Python 3 (ipykernel)",
   "language": "python",
   "name": "python3"
  },
  "language_info": {
   "codemirror_mode": {
    "name": "ipython",
    "version": 3
   },
   "file_extension": ".py",
   "mimetype": "text/x-python",
   "name": "python",
   "nbconvert_exporter": "python",
   "pygments_lexer": "ipython3",
   "version": "3.9.12"
  }
 },
 "nbformat": 4,
 "nbformat_minor": 4
}
