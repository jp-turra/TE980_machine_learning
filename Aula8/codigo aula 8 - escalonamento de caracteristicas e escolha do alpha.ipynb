{
 "cells": [
  {
   "cell_type": "markdown",
   "id": "bcf8f206",
   "metadata": {
    "pycharm": {
     "name": "#%% md\n"
    }
   },
   "source": [
    "# Escalonamento de características e taxa de aprendizado"
   ]
  },
  {
   "cell_type": "markdown",
   "id": "d7934609",
   "metadata": {
    "pycharm": {
     "name": "#%% md\n"
    }
   },
   "source": [
    "## Objetivos\n",
    "Com este código você irá:\n",
    "- Utilizar as rotinas de regressão linear múltipla desenvolvidas no último código\n",
    "- Rodar o Método do Gradiente num conjunto de dados com múltiplas características\n",
    "- Explorar o impacto da escolha da *taxa de aprendizado alpha* no Método do Gradiente\n",
    "- Melhorar a performance do gradiente realizando o *Escalonamento de características* chamado *Normalização Z-score*"
   ]
  },
  {
   "cell_type": "code",
   "execution_count": 1,
   "id": "a2a66722",
   "metadata": {
    "pycharm": {
     "name": "#%%\n"
    }
   },
   "outputs": [],
   "source": [
    "import math\n",
    "import numpy as np\n",
    "import matplotlib.pyplot as plt\n",
    "np.set_printoptions(precision=2)  # reduz a precisão das numpy arrays na hora de dar print"
   ]
  },
  {
   "cell_type": "markdown",
   "id": "87e488e1",
   "metadata": {
    "pycharm": {
     "name": "#%% md\n"
    }
   },
   "source": [
    "# Definição do Problema\n",
    "\n",
    "Usaremos um exemplo de motivação baseado no problema de estimar o preço de uma casa.\n",
    "\n",
    "Os dados de treinamento contêm três exemplos com quatro características (size, bedrooms, floors e age).  Note que a primeira característica possui uma ordem de grandeza muito maior que as demais. Note também que os dados são diferentes daqueles usados no código anterior. De fato, nesse código iremos usar um conjunto de dados com mais amostras (100 casas). Esse conjunto de dados encontra-se num arquivo individual denominado dados_casas.txt\n",
    "\n",
    "## Conjunto de dados:\n",
    "| Size (sqft) | Number of Bedrooms  | Number of floors | Age of  Home | Price (1000s dollars)  |   \n",
    "| ----------------| ------------------- |----------------- |--------------|----------------------- |  \n",
    "| 952             | 2                   | 1                | 65           | 271.5                  |  \n",
    "| 1244            | 3                   | 2                | 64           | 232                    |  \n",
    "| 1947            | 3                   | 2                | 17           | 509.8                  |  \n",
    "| ...             | ...                 | ...              | ...          | ...                    |\n",
    "\n",
    "\n",
    "Você irá construir um modelo de regressão linear usando esses valores de tal forma que você também possa depois estimar o preço de outras casas. Por exemplo, um casa com 1200 sqft, 3 bedrooms, 1 floor, 40 years old.  \n",
    "\n"
   ]
  },
  {
   "cell_type": "code",
   "execution_count": 2,
   "id": "f1e712eb",
   "metadata": {
    "pycharm": {
     "name": "#%%\n"
    }
   },
   "outputs": [
    {
     "name": "stdout",
     "output_type": "stream",
     "text": [
      "<class 'numpy.ndarray'>\n",
      "[[9.52e+02 2.00e+00 1.00e+00 6.50e+01 2.72e+02]\n",
      " [1.24e+03 3.00e+00 1.00e+00 6.40e+01 3.00e+02]\n",
      " [1.95e+03 3.00e+00 2.00e+00 1.70e+01 5.10e+02]\n",
      " [1.72e+03 3.00e+00 2.00e+00 4.20e+01 3.94e+02]\n",
      " [1.96e+03 3.00e+00 2.00e+00 1.50e+01 5.40e+02]\n",
      " [1.31e+03 2.00e+00 1.00e+00 1.40e+01 4.15e+02]\n",
      " [8.64e+02 2.00e+00 1.00e+00 6.60e+01 2.30e+02]\n",
      " [1.84e+03 3.00e+00 1.00e+00 1.70e+01 5.60e+02]\n",
      " [1.03e+03 3.00e+00 1.00e+00 4.30e+01 2.94e+02]\n",
      " [3.19e+03 4.00e+00 2.00e+00 8.70e+01 7.18e+02]]\n",
      "(100, 4)\n",
      "(100,)\n"
     ]
    }
   ],
   "source": [
    "# Carregando os dados\n",
    "\n",
    "file = open('dados_casas.txt') # As quatro primeiras colunas referem-se a características das casas.\n",
    "                               # A quinta (última) coluna refere-se ao preço pelo qual tais casas foram negociadas\n",
    "dados = np.loadtxt(file, delimiter=\",\") \n",
    "\n",
    "print(type(dados)) # observa-se que os dados já estão no formato de numpy arrays\n",
    "\n",
    "print(dados[0:10,:])  # mostra as primeiras 10 amostras dos dados\n",
    "\n",
    "X_train = dados[:,0:4]\n",
    "y_train = dados[:,-1] # pega apenas a última coluna. Seria o mesmo que y = dados[:,4] \n",
    "\n",
    "print(X_train.shape)\n",
    "print(y_train.shape)\n",
    "\n",
    "X_caracteristicas = ['size(sqft)','bedrooms','floors','age']"
   ]
  },
  {
   "cell_type": "markdown",
   "id": "4e6455d0",
   "metadata": {
    "pycharm": {
     "name": "#%% md\n"
    }
   },
   "source": [
    "Vamos visualizar o conjunto de dados e suas características plotando cada uma das características versus o tempo."
   ]
  },
  {
   "cell_type": "code",
   "execution_count": 3,
   "id": "abf60e7f",
   "metadata": {
    "pycharm": {
     "name": "#%%\n"
    }
   },
   "outputs": [
    {
     "data": {
      "image/png": "[encoded data removed]",
      "text/plain": [
       "<Figure size 864x216 with 4 Axes>"
      ]
     },
     "metadata": {
      "needs_background": "light"
     },
     "output_type": "display_data"
    }
   ],
   "source": [
    "fig,ax=plt.subplots(1, 4, figsize=(12, 3), sharey=True)\n",
    "for i in range(len(ax)):\n",
    "    ax[i].scatter(X_train[:,i],y_train)\n",
    "    ax[i].set_xlabel(X_caracteristicas[i])\n",
    "ax[0].set_ylabel(\"Price (1000's)\")\n",
    "plt.show()"
   ]
  },
  {
   "cell_type": "markdown",
   "id": "01925424",
   "metadata": {
    "pycharm": {
     "name": "#%% md\n"
    }
   },
   "source": [
    "Plotando cada característica versus o alvo y (no caso, o preço), conseguimos um indicativo de quais características possuem maior influência no preço. Como pode ser percebido, aumentar o tamanho (size) também aumenta o preço. Quartos e Andares não parecem ter um impacto tão grande no preço. Por fim, casas mais novas têm preços maiores em comparação com casas mais antigas."
   ]
  },
  {
   "cell_type": "markdown",
   "id": "ae4908b5",
   "metadata": {
    "pycharm": {
     "name": "#%% md\n"
    }
   },
   "source": [
    "## Revisitando o nosso código do Método do Gradiente\n",
    "\n",
    "Abaixo nós estamos definindo novamente as 3 funções que implementam o Método do Gradiente (essas foram as funções desenvolvidas no último código)."
   ]
  },
  {
   "cell_type": "code",
   "execution_count": 4,
   "id": "2999c855",
   "metadata": {},
   "outputs": [],
   "source": [
    "def calcula_custo(X, y, w, b): \n",
    "    \"\"\"\n",
    "    Calcula o custo\n",
    "    Args:\n",
    "      X (ndarray (m,n)): Dados, contendo m exemplos com n características\n",
    "      y (ndarray (m,)) : valores alvo\n",
    "      w (ndarray (n,)) : parâmetros w do modelo  \n",
    "      b (scalar)       : parâmetro b do modelo\n",
    "      \n",
    "    Retorna:\n",
    "      custo (escalar): custo\n",
    "    \"\"\"\n",
    "    m     = X.shape[0]\n",
    "    custo = 0.0\n",
    "    for i in range(m):                                \n",
    "        f_wb_i = np.dot(X[i], w) + b           #(n,)(n,) = escalar (see np.dot)\n",
    "        custo = custo + (f_wb_i - y[i])**2     # escalar\n",
    "    custo = custo / (2 * m)                    # escalar    \n",
    "    return custo\n",
    "\n",
    "def calcula_gradiente(X, y, w, b): \n",
    "    \"\"\"\n",
    "    Calcula Gradiente para Regressão Linear\n",
    "    Args:\n",
    "      X (ndarray (m,n)): Dados, contendo m exemplos com n características\n",
    "      y (ndarray (m,)) : valores alvo\n",
    "      w (ndarray (n,)) : parâmetros w do modelo  \n",
    "      b (scalar)       : parâmetro b do modelo\n",
    "      \n",
    "    Retorna:\n",
    "      dj_dw (ndarray (n,)): O gradiente da função custo com relação aos parâmetros w. \n",
    "      dj_db (escalar):      O gradiente da função custo com relação ao parâmetro b. \n",
    "    \"\"\"\n",
    "    m,n = X.shape           #(número de exemplos, número de características)\n",
    "    dj_dw = np.zeros((n,))\n",
    "    dj_db = 0.\n",
    "\n",
    "    for i in range(m):                             \n",
    "        erro = (np.dot(X[i], w) + b) - y[i]   \n",
    "        for j in range(n):                         \n",
    "            dj_dw[j] = dj_dw[j] + erro * X[i, j]    \n",
    "        dj_db = dj_db + erro                        \n",
    "    dj_dw = dj_dw / m                                \n",
    "    dj_db = dj_db / m                                \n",
    "        \n",
    "    return dj_db, dj_dw\n",
    "\n",
    "def metodo_do_gradiente(X, y, w_in, b_in, calcula_custo, calcula_gradiente, alpha, num_iters): \n",
    "    \"\"\"\n",
    "    Performa Método do Gradiente para aprender theta. Atualiza theta ao longo de  \n",
    "    num_iters passos de iteração usando uma taxa de aprendizado alpha\n",
    "    \n",
    "    Args:\n",
    "      X (ndarray (m,n))   : Dados, contendo m exemplos com n características\n",
    "      y (ndarray (m,))    : valores alvo\n",
    "      w_in (ndarray (n,)) : valores iniciais dos parâmetros w do modelo  \n",
    "      b_in (escalar)      : valor inicial do parâmetro b do modelo\n",
    "      calcula_custo       : função que calcula o custo\n",
    "      calcula_gradiente   : função que calcula o gradiente\n",
    "      alpha (float)       : taxa de aprendizado\n",
    "      num_iters (int)     : Número de iterações para o método do gradiente\n",
    "      \n",
    "    Retorna:\n",
    "      w (ndarray (n,)) : Valores atualizados para os parâmetros w\n",
    "      b (scalar)       : Valores atualizado para o parâmetro b \n",
    "      \"\"\"\n",
    "    \n",
    "    # Valores históricos\n",
    "    J_history = []\n",
    "    w = w_in\n",
    "    b = b_in\n",
    "    \n",
    "    for i in range(num_iters):\n",
    "\n",
    "        # Calcula o gradiente\n",
    "        dj_db,dj_dw = calcula_gradiente(X, y, w, b)   ##None\n",
    "\n",
    "        # Atualiza os parâmetros\n",
    "        w = w - alpha * dj_dw               ##None\n",
    "        b = b - alpha * dj_db               ##None\n",
    "      \n",
    "        # Salva o custo\n",
    "        if i<100000:      # prevent resource exhaustion \n",
    "            J_history.append( calcula_custo(X, y, w, b))\n",
    "\n",
    "        # Faz print de tempos em tempos\n",
    "        if i% math.ceil(num_iters / 10) == 0:\n",
    "            print(f\"Iteração {i:4d}: Custo {J_history[-1]:8.2f}   \")\n",
    "        \n",
    "    return w, b, J_history # retorna valores finais e históricos"
   ]
  },
  {
   "cell_type": "markdown",
   "id": "0df94625",
   "metadata": {
    "pycharm": {
     "name": "#%% md\n"
    }
   },
   "source": [
    "<a name=\"toc_15456_5\"></a>\n",
    "## Abaixo nós testamos nossa implementação do Método do Gradiente para esse novo conjunto de dados, considerando um valor elevado para $\\alpha$, $\\alpha = 10 \\times 10^{-7}$\n"
   ]
  },
  {
   "cell_type": "code",
   "execution_count": 5,
   "id": "f00c27bd",
   "metadata": {},
   "outputs": [
    {
     "name": "stdout",
     "output_type": "stream",
     "text": [
      "Iteração    0: Custo 96598.21   \n",
      "Iteração    1: Custo 131589.37   \n",
      "Iteração    2: Custo 179465.09   \n",
      "Iteração    3: Custo 244969.73   \n",
      "Iteração    4: Custo 334594.59   \n",
      "Iteração    5: Custo 457221.19   \n",
      "Iteração    6: Custo 625001.40   \n",
      "Iteração    7: Custo 854561.64   \n",
      "Iteração    8: Custo 1168650.51   \n",
      "Iteração    9: Custo 1598393.06   \n",
      "b,w encontrados pelo método do gradiente: -0.00,[-0.96 -0.   -0.   -0.03] \n"
     ]
    },
    {
     "data": {
      "image/png": "[encoded data removed]",
      "text/plain": [
       "<Figure size 864x288 with 1 Axes>"
      ]
     },
     "metadata": {
      "needs_background": "light"
     },
     "output_type": "display_data"
    }
   ],
   "source": [
    "# inicializando parâmetros\n",
    "initial_w = np.array([ 0.0,  0.0,  0.0,  0.0])\n",
    "initial_b = 0.0\n",
    "# parâmetros para rodar o Método do Gradiente:\n",
    "iterations = 10\n",
    "alpha      = 10e-7\n",
    "# Rodando o Método do gradiente \n",
    "w_final, b_final, J_hist = metodo_do_gradiente(X_train, y_train, initial_w, initial_b,\n",
    "                                                    calcula_custo, calcula_gradiente, \n",
    "                                                    alpha, iterations)\n",
    "print(f\"b,w encontrados pelo método do gradiente: {b_final:0.2f},{w_final} \")\n",
    "\n",
    "# Plotando os resultados\n",
    "fig,ax = plt.subplots(1, 1, constrained_layout=True, figsize=(12, 4))\n",
    "ax.plot(J_hist)\n",
    "ax.set_title(\"Custo vs. iteração\")\n",
    "ax.set_ylabel('Custo')         \n",
    "ax.set_xlabel('iteração')    \n",
    "plt.show()"
   ]
  },
  {
   "cell_type": "markdown",
   "id": "5d50fbff",
   "metadata": {
    "pycharm": {
     "name": "#%% md\n"
    }
   },
   "source": [
    "A taxa de aprendizado parece estar muito grande. A solução não converge. O Custo está crescendo ao invés de diminuir."
   ]
  },
  {
   "cell_type": "markdown",
   "id": "72fedbab",
   "metadata": {
    "pycharm": {
     "name": "#%% md\n"
    }
   },
   "source": [
    "\n",
    "## Agora considerando um valor menor, $\\alpha = 1 \\times 10^{-7}$\n"
   ]
  },
  {
   "cell_type": "code",
   "execution_count": 6,
   "id": "11ea2361",
   "metadata": {},
   "outputs": [
    {
     "name": "stdout",
     "output_type": "stream",
     "text": [
      "Iteração    0: Custo 44154.43   \n",
      "Iteração    1: Custo 27679.69   \n",
      "Iteração    2: Custo 17578.45   \n",
      "Iteração    3: Custo 11385.01   \n",
      "Iteração    4: Custo  7587.58   \n",
      "Iteração    5: Custo  5259.23   \n",
      "Iteração    6: Custo  3831.62   \n",
      "Iteração    7: Custo  2956.29   \n",
      "Iteração    8: Custo  2419.57   \n",
      "Iteração    9: Custo  2090.48   \n",
      "b,w encontrados pelo método do gradiente: 0.00,[2.31e-01 4.18e-04 2.12e-04 4.87e-03] \n"
     ]
    },
    {
     "data": {
      "image/png": "[encoded data removed]",
      "text/plain": [
       "<Figure size 864x288 with 1 Axes>"
      ]
     },
     "metadata": {
      "needs_background": "light"
     },
     "output_type": "display_data"
    }
   ],
   "source": [
    "# inicializando parâmetros\n",
    "initial_w = np.array([ 0.0,  0.0,  0.0,  0.0])\n",
    "initial_b = 0.0\n",
    "# parâmetros para rodar o Método do Gradiente:\n",
    "iterations = 10\n",
    "alpha      = 1e-7\n",
    "# Rodando o Método do gradiente \n",
    "w_final, b_final, J_hist = metodo_do_gradiente(X_train, y_train, initial_w, initial_b,\n",
    "                                                    calcula_custo, calcula_gradiente, \n",
    "                                                    alpha, iterations)\n",
    "print(f\"b,w encontrados pelo método do gradiente: {b_final:0.2f},{w_final} \")\n",
    "\n",
    "# Plotando os resultados\n",
    "fig,ax = plt.subplots(1, 1, constrained_layout=True, figsize=(12, 4))\n",
    "ax.plot(J_hist)\n",
    "ax.set_title(\"Custo vs. iteração\")\n",
    "ax.set_ylabel('Custo')         \n",
    "ax.set_xlabel('iteração')    \n",
    "plt.show()\n"
   ]
  },
  {
   "cell_type": "markdown",
   "id": "fa0c1a51",
   "metadata": {
    "pycharm": {
     "name": "#%% md\n"
    }
   },
   "source": [
    "O Custo está decrescendo ao longo das iterações. Isso significa que $\\alpha$ não está muito grande para a função Custo como um todo."
   ]
  },
  {
   "cell_type": "markdown",
   "id": "e9f24086",
   "metadata": {
    "pycharm": {
     "name": "#%% md\n"
    }
   },
   "source": [
    "\n",
    "## Testando um valor ainda menor, $\\alpha = 0.1\\times 10^{-7}$\n"
   ]
  },
  {
   "cell_type": "code",
   "execution_count": 7,
   "id": "9881ff9f",
   "metadata": {},
   "outputs": [
    {
     "name": "stdout",
     "output_type": "stream",
     "text": [
      "Iteração    0: Custo 68042.86   \n",
      "Iteração    1: Custo 65189.58   \n",
      "Iteração    2: Custo 62458.78   \n",
      "Iteração    3: Custo 59845.20   \n",
      "Iteração    4: Custo 57343.80   \n",
      "Iteração    5: Custo 54949.76   \n",
      "Iteração    6: Custo 52658.49   \n",
      "Iteração    7: Custo 50465.57   \n",
      "Iteração    8: Custo 48366.77   \n",
      "Iteração    9: Custo 46358.06   \n",
      "b,w encontrados pelo método do gradiente: 0.00,[4.98e-02 9.08e-05 4.68e-05 1.12e-03] \n"
     ]
    },
    {
     "data": {
      "image/png": "[encoded data removed]",
      "text/plain": [
       "<Figure size 864x288 with 1 Axes>"
      ]
     },
     "metadata": {
      "needs_background": "light"
     },
     "output_type": "display_data"
    }
   ],
   "source": [
    "# inicializando parâmetros\n",
    "initial_w = np.array([ 0.0,  0.0,  0.0,  0.0])\n",
    "initial_b = 0.0\n",
    "# parâmetros para rodar o Método do Gradiente:\n",
    "iterations = 10\n",
    "alpha      = 0.1e-7\n",
    "# Rodando o Método do gradiente \n",
    "w_final, b_final, J_hist = metodo_do_gradiente(X_train, y_train, initial_w, initial_b,\n",
    "                                                    calcula_custo, calcula_gradiente, \n",
    "                                                    alpha, iterations)\n",
    "print(f\"b,w encontrados pelo método do gradiente: {b_final:0.2f},{w_final} \")\n",
    "\n",
    "# Plotando os resultados\n",
    "fig,ax = plt.subplots(1, 1, constrained_layout=True, figsize=(12, 4))\n",
    "ax.plot(J_hist)\n",
    "ax.set_title(\"Custo vs. iteração\")\n",
    "ax.set_ylabel('Custo')         \n",
    "ax.set_xlabel('iteração')    \n",
    "plt.show()\n"
   ]
  },
  {
   "cell_type": "markdown",
   "id": "ba039bd6",
   "metadata": {
    "pycharm": {
     "name": "#%% md\n"
    }
   },
   "source": [
    "O Custo está decrescendo ao longo das iterações. Isso significa que $\\alpha$ não está muito grande. Entretanto, note que o custo encontra-se decaindo lentamente, o que indica um valor muito baixo para $\\alpha$."
   ]
  },
  {
   "cell_type": "markdown",
   "id": "9981ae1b",
   "metadata": {
    "pycharm": {
     "name": "#%% md\n"
    },
    "tags": []
   },
   "source": [
    "## Escalonamento de Características\n"
   ]
  },
  {
   "cell_type": "markdown",
   "id": "5e1c9b3d",
   "metadata": {
    "pycharm": {
     "name": "#%% md\n"
    }
   },
   "source": [
    "Existem diferentes formas para se escalonar características: \n",
    "- Dividindo pelo máximo: Nesse caso, essencialmente divide-se uma característica pelo seu valor máximo. Numa situação mais geral, é possível utilizar tanto o valor máximo como o mínimo, fazendo-se (x-min)/(max-min).\n",
    "- Normalização pela média: Nesse caso, faz-se (x-media(x))/(max-min)\n",
    "- Normalização Z-score: Nesse caso, faz-se (x-media(x))/(desvio)"
   ]
  },
  {
   "cell_type": "markdown",
   "id": "d05e62fb",
   "metadata": {
    "pycharm": {
     "name": "#%% md\n"
    }
   },
   "source": [
    ">**OBSERVAÇÃO IMPORTANTE:** Ao normalizar características, é importante armazenar (guardar) os valores usados na normalização, média e desvio padrão no caso da normalização Z-score, por exemplo. Isso porque, após o modelo ser estimado, nós frequentemente queremos usar ele para estimar o preço de casas que não foram usadas no processo de treinamento. Dada uma nova casa com características x, nós devemos primeiro normalizar x usando a média e o desvio padrão que foram previamente computados a partir dos dados de treinamento."
   ]
  },
  {
   "cell_type": "markdown",
   "id": "18bda284",
   "metadata": {
    "pycharm": {
     "name": "#%% md\n"
    }
   },
   "source": [
    "A função abaixo implementa a normalização Z-Score"
   ]
  },
  {
   "cell_type": "code",
   "execution_count": 8,
   "id": "f89e7777",
   "metadata": {
    "pycharm": {
     "name": "#%%\n"
    }
   },
   "outputs": [],
   "source": [
    "def normalizacao_zscore(X):\n",
    "    \"\"\"\n",
    "    Normaliza todas as colunas em X\n",
    "    \n",
    "    Argumentos:\n",
    "      X (ndarray (m,n))     : Dados de entrada, m amostras (linhas), n características (colunas)\n",
    "      \n",
    "    Retorna:\n",
    "      X_norm (ndarray (m,n)): Matriz X normalizada\n",
    "      mu (ndarray (n,))     : média de cada característica\n",
    "      sigma (ndarray (n,))  : desvio padrão de cada característica\n",
    "    \"\"\"\n",
    "    # Encontrando a média de cada característica/coluna\n",
    "    mu     = np.mean(X, axis=0)                 # mu terá shape (n,) ---> axis=0 indica que a operação será feita ao longo das linhas, para cada coluna\n",
    "    # Encontrando o desvio padrão de cada característica/coluna\n",
    "    sigma  = np.std(X, axis=0)                  # sigma will have shape (n,)\n",
    "    # O comando abaixo subtrai a média mu de cada coluna para cada exemplo, e divide pelo desvio correspondente\n",
    "    X_norm = (X - mu) / sigma      \n",
    "\n",
    "    return (X_norm, mu, sigma)\n",
    "\n",
    "#O que a nossa função faz pode ser feito usando a biblioteca Scikit learn, por meio dos comandos abaixo\n",
    "#from sklearn.preprocessing import scale\n",
    "#scale(X_orig, axis=0, with_mean=True, with_std=True, copy=True)"
   ]
  },
  {
   "cell_type": "code",
   "execution_count": 9,
   "id": "ed5f7380",
   "metadata": {
    "pycharm": {
     "name": "#%%\n"
    }
   },
   "outputs": [
    {
     "name": "stdout",
     "output_type": "stream",
     "text": [
      "X_mu = [1.41e+03 2.71e+00 1.38e+00 3.86e+01], \n",
      "X_sigma = [412.17   0.65   0.49  25.79]\n",
      "Intervalo pico a pico por característica/coluna nos dados originais  :[2.41e+03 4.00e+00 1.00e+00 9.50e+01]\n",
      "Intervalo pico a pico por característica/coluna nos dados escalonados:[5.84 6.13 2.06 3.68]\n"
     ]
    }
   ],
   "source": [
    "# Normalizando as características a partir da função normalizacao_zscore\n",
    "X_norm, X_mu, X_sigma = normalizacao_zscore(X_train)\n",
    "print(f\"X_mu = {X_mu}, \\nX_sigma = {X_sigma}\")\n",
    "print(f\"Intervalo pico a pico por característica/coluna nos dados originais  :{np.ptp(X_train,axis=0)}\")   \n",
    "print(f\"Intervalo pico a pico por característica/coluna nos dados escalonados:{np.ptp(X_norm,axis=0)}\")"
   ]
  },
  {
   "cell_type": "markdown",
   "id": "188f9d31",
   "metadata": {
    "pycharm": {
     "name": "#%% md\n"
    }
   },
   "source": [
    "Com a normalização, o intervalo pico a pico para cada característica é reduzido de uma ordem de grandeza de milhares para uma ordem de gradeza de poucas unidades."
   ]
  },
  {
   "cell_type": "code",
   "execution_count": 10,
   "id": "5b2b8760",
   "metadata": {},
   "outputs": [
    {
     "name": "stdout",
     "output_type": "stream",
     "text": [
      "Iteração    0: Custo 34611.46   \n",
      "Iteração   20: Custo   242.12   \n",
      "Iteração   40: Custo   220.05   \n",
      "Iteração   60: Custo   219.72   \n",
      "Iteração   80: Custo   219.71   \n",
      "Iteração  100: Custo   219.71   \n",
      "Iteração  120: Custo   219.71   \n",
      "Iteração  140: Custo   219.71   \n",
      "Iteração  160: Custo   219.71   \n",
      "Iteração  180: Custo   219.71   \n",
      "b,w encontrados pelo método do gradiente: 362.24,[110.61 -21.47 -32.66 -37.78] \n"
     ]
    },
    {
     "data": {
      "image/png": "[encoded data removed]",
      "text/plain": [
       "<Figure size 864x288 with 1 Axes>"
      ]
     },
     "metadata": {
      "needs_background": "light"
     },
     "output_type": "display_data"
    }
   ],
   "source": [
    "# inicializando parâmetros\n",
    "initial_w = np.array([ 0.0,  0.0,  0.0,  0.0])\n",
    "initial_b = 0.0\n",
    "\n",
    "# parâmetros para rodar o Método do Gradiente:\n",
    "iterations = 200\n",
    "alpha      = 0.3\n",
    "# Rodando o Método do gradiente \n",
    "w_norm, b_norm, J_hist = metodo_do_gradiente(X_norm, y_train, initial_w, initial_b,\n",
    "                                                    calcula_custo, calcula_gradiente, \n",
    "                                                    alpha, iterations)\n",
    "print(f\"b,w encontrados pelo método do gradiente: {b_norm:0.2f},{w_norm} \")\n",
    "\n",
    "# Plotando os resultados\n",
    "fig,ax = plt.subplots(1, 1, constrained_layout=True, figsize=(12, 4))\n",
    "ax.plot(J_hist)\n",
    "ax.set_title(\"Custo vs. iteração\")\n",
    "ax.set_ylabel('Custo')         \n",
    "ax.set_xlabel('iteração')    \n",
    "plt.show()\n"
   ]
  },
  {
   "cell_type": "markdown",
   "id": "211c1e27",
   "metadata": {
    "pycharm": {
     "name": "#%% md\n"
    }
   },
   "source": [
    "As características escalonadas levam à resultados satisfatórios **muito mais rapidamente!**. Uma taxa de aprendizado de 0.1 ou 0.3 é geralmente um bom começo para regressão com características escalonadas.\n",
    "\n",
    "Abaixo nós plotamos nossas previsões versus os valores alvo. Note, a previsão é feita usando as características normalizadas enquanto que o gráfico mostra os valores originais dessas características."
   ]
  },
  {
   "cell_type": "code",
   "execution_count": 11,
   "id": "2c870b0f",
   "metadata": {
    "pycharm": {
     "name": "#%%\n"
    }
   },
   "outputs": [
    {
     "data": {
      "image/png": "[encoded data removed]",
      "text/plain": [
       "<Figure size 864x216 with 4 Axes>"
      ]
     },
     "metadata": {
      "needs_background": "light"
     },
     "output_type": "display_data"
    }
   ],
   "source": [
    "# realizando previsão usando características escalonadas\n",
    "m = X_norm.shape[0]\n",
    "yp = np.zeros(m)\n",
    "for i in range(m):\n",
    "    yp[i] = np.dot(X_norm[i], w_norm) + b_norm\n",
    "\n",
    "# plotando alvo versus previsão    \n",
    "fig,ax=plt.subplots(1,4,figsize=(12, 3),sharey=True)\n",
    "for i in range(len(ax)):\n",
    "    ax[i].scatter(X_train[:,i],y_train, label = 'target')\n",
    "    ax[i].set_xlabel(X_caracteristicas[i])\n",
    "    ax[i].scatter(X_train[:,i],yp,color='orange', label = 'predict')\n",
    "ax[0].set_ylabel(\"Preço\"); ax[0].legend();\n",
    "fig.suptitle(\"Alvo versus previsão usando modelo com normalização Z-Score\")\n",
    "plt.show()"
   ]
  },
  {
   "cell_type": "markdown",
   "id": "7a79e735",
   "metadata": {
    "pycharm": {
     "name": "#%% md\n"
    }
   },
   "source": [
    "Os resultados parecem satisfatórios. Algumas observações importantes:\n",
    "- Com múltiplas características, Nós não conseguimos mais ter um único plot contendo resultados versus características.\n",
    "- Ao gerar o plot, as caraterísticas normalizadas foram usadas. Qualquer previsão usando os parâmetros aprendidos a partir dos dados de treinamento normalizados também devem ser previamente normalizados."
   ]
  },
  {
   "cell_type": "markdown",
   "id": "1be028b7",
   "metadata": {
    "pycharm": {
     "name": "#%% md\n"
    }
   },
   "source": [
    "**Previsão**\n",
    "Agora que temos um modelo, podemos utilizá-lo para realizar a previsão do valor de casas que não estavam presentes no conjunto de 100 amostras que usamos para treinar o modelo. Vamos estimar o preço de uma casa com 1200 sqft, 3 bedrooms, 1 floor, 40 years old. Lembre-se, você deve primeiramente normalizar os dados com a média e o desvio vindos dos dados de treinamento."
   ]
  },
  {
   "cell_type": "code",
   "execution_count": 12,
   "id": "ad00e0e1",
   "metadata": {
    "pycharm": {
     "name": "#%%\n"
    }
   },
   "outputs": [
    {
     "name": "stdout",
     "output_type": "stream",
     "text": [
      "[-0.52  0.44 -0.78  0.05]\n",
      " Preço estimado para uma casa com 1200 sqft, 3 bedrooms, 1 floor, 40 years old = $318936\n"
     ]
    }
   ],
   "source": [
    "x_casa = np.array([1200, 3, 1, 40])\n",
    "x_casa_norm = (x_casa - X_mu) / X_sigma\n",
    "print(x_casa_norm)\n",
    "y_casa = np.dot(x_casa_norm, w_norm) + b_norm\n",
    "print(f\" Preço estimado para uma casa com 1200 sqft, 3 bedrooms, 1 floor, 40 years old = ${y_casa*1000:0.0f}\")"
   ]
  },
  {
   "cell_type": "markdown",
   "id": "80bc0ee5",
   "metadata": {
    "pycharm": {
     "name": "#%% md\n"
    }
   },
   "source": [
    "\n",
    "## Parabéns!\n",
    "\n",
    "Com este código, você:\n",
    "- utilizou as rotinas de regressão linear múltipla desenvolvidas em códigos anteriores\n",
    "- explorou o impacto da taxa de aprendizado $\\alpha$ na convergência do Método do Gradiente\n",
    "- descobriu a importância do Escalonamento de Características usando a Normalização Z-Score para acelerar convergência"
   ]
  },
  {
   "cell_type": "markdown",
   "id": "6fa91912",
   "metadata": {
    "pycharm": {
     "name": "#%% md\n"
    }
   },
   "source": [
    "## Agradecimentos\n",
    "Os dados foram obtidos da seguinte referência: [Ames Housing dataset](http://jse.amstat.org/v19n3/decock.pdf). Tais dados foram compilados por Dean De Cock."
   ]
  },
  {
   "cell_type": "code",
   "execution_count": 17,
   "id": "11cfba4b",
   "metadata": {
    "pycharm": {
     "name": "#%%\n"
    }
   },
   "outputs": [],
   "source": []
  }
 ],
 "metadata": {
  "kernelspec": {
   "display_name": "Python 3 (ipykernel)",
   "language": "python",
   "name": "python3"
  },
  "language_info": {
   "codemirror_mode": {
    "name": "ipython",
    "version": 3
   },
   "file_extension": ".py",
   "mimetype": "text/x-python",
   "name": "python",
   "nbconvert_exporter": "python",
   "pygments_lexer": "ipython3",
   "version": "3.9.12"
  },
  "toc-autonumbering": false
 },
 "nbformat": 4,
 "nbformat_minor": 5
}
