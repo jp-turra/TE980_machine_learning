{
 "cells": [
  {
   "cell_type": "markdown",
   "id": "40a2fd65",
   "metadata": {
    "pycharm": {
     "name": "#%% md\n"
    }
   },
   "source": [
    "# Representação do modelo"
   ]
  },
  {
   "cell_type": "markdown",
   "id": "b40d93f1",
   "metadata": {
    "pycharm": {
     "name": "#%% md\n"
    }
   },
   "source": [
    "## Objetivo\n",
    "\n",
    "- Aprender a implementar o modelo $f_{w,b} (x)$ para regressão linear com uma variável"
   ]
  },
  {
   "cell_type": "markdown",
   "id": "8a4a7d49",
   "metadata": {
    "pycharm": {
     "name": "#%% md\n"
    }
   },
   "source": [
    "## Ferramentas\n",
    "\n",
    "Nesse código, você usará: \n",
    "- NumPy, uma biblioteca popular para cálculos matriciais, etc\n",
    "- Matplotlib, uma biblioteca popular para gerar figuras com dados"
   ]
  },
  {
   "cell_type": "code",
   "execution_count": 1,
   "id": "e34b0245",
   "metadata": {
    "pycharm": {
     "name": "#%%\n"
    }
   },
   "outputs": [],
   "source": [
    "import numpy as np\n",
    "import matplotlib.pyplot as plt"
   ]
  },
  {
   "cell_type": "markdown",
   "id": "5daf9ebe",
   "metadata": {
    "pycharm": {
     "name": "#%% md\n"
    }
   },
   "source": [
    "# Definição do Problema\n",
    "\n",
    "Nesse código, você usará um exemplo de motivação baseado na previsão de tensão sobre um resistor.\n",
    "\n",
    "Usaremos para isso um conjunto de dados com apenas 2 amostras - um valor de corrente de 0.2 A que resultou numa tensão de 21 V e um valor de 4.5 A que resultou numa tensão de 430 V. Essas duas amostras de dados contituem nosso *conjunto de dados de treinamento*. \n",
    "\n",
    "| Corrente (A)     | Tensão (V) |\n",
    "| -------------------| ------------------------ |\n",
    "| 0.2               | 21                      |\n",
    "| 4.5               | 430                      |\n",
    "\n",
    "Queremos ajustar um modelo de regressão linear a partir desses dois pontos, para que seja possível então estimar a tensão sobre o resistor para outros valores de corrente.\n"
   ]
  },
  {
   "cell_type": "markdown",
   "id": "672e1429",
   "metadata": {
    "pycharm": {
     "name": "#%% md\n"
    }
   },
   "source": [
    "Rodar o célula de código abaixo para criar as variáveis `x_train` e `y_train`. Os dados são armazenados em NumPy arrays de uma dimensão."
   ]
  },
  {
   "cell_type": "code",
   "execution_count": 2,
   "id": "82453c24",
   "metadata": {
    "pycharm": {
     "name": "#%%\n"
    }
   },
   "outputs": [
    {
     "name": "stdout",
     "output_type": "stream",
     "text": [
      "x_train = [0.2 4.5]\n",
      "y_train = [ 21. 430.]\n"
     ]
    }
   ],
   "source": [
    "# x_train é a variável de entrada (corrente em Àmperes)\n",
    "# y_train é a variável alvo (tensão em Volts)\n",
    "x_train = np.array([0.2, 4.5])\n",
    "y_train = np.array([21.0, 430.0])\n",
    "print(f\"x_train = {x_train}\")\n",
    "print(f\"y_train = {y_train}\")"
   ]
  },
  {
   "cell_type": "markdown",
   "id": "f9da5a79",
   "metadata": {
    "pycharm": {
     "name": "#%% md\n"
    }
   },
   "source": [
    "### Número de amostras de treinamento `m`\n",
    "\n",
    "Usaremos `m` para denotar o número de amostras de treinamento. Numpy arrays têm o parâmetro `.shape`. Nesse contexto, `x_train.shape` retorna uma tupla com uma entrada para cada dimensão. `x_train.shape[0]` é o comprimento da array (primeiro elemento presente na tupla), conforme mostrado abaixo."
   ]
  },
  {
   "cell_type": "code",
   "execution_count": 3,
   "id": "a2edbe21",
   "metadata": {
    "pycharm": {
     "name": "#%%\n"
    }
   },
   "outputs": [
    {
     "name": "stdout",
     "output_type": "stream",
     "text": [
      "x_train.shape: (2,)\n",
      "O número de amostras de treinamento é: 2\n"
     ]
    }
   ],
   "source": [
    "# m é o número de amostras de treinamento\n",
    "print(f\"x_train.shape: {x_train.shape}\")\n",
    "m = x_train.shape[0]\n",
    "print(f\"O número de amostras de treinamento é: {m}\")"
   ]
  },
  {
   "cell_type": "markdown",
   "id": "d673a22b",
   "metadata": {
    "pycharm": {
     "name": "#%% md\n"
    }
   },
   "source": [
    "É possível também utilizar o função em Python `len()`, conforme abaixo."
   ]
  },
  {
   "cell_type": "code",
   "execution_count": 4,
   "id": "edeb666a",
   "metadata": {
    "pycharm": {
     "name": "#%%\n"
    }
   },
   "outputs": [
    {
     "name": "stdout",
     "output_type": "stream",
     "text": [
      "O número de amostras de treinamento é: 2\n"
     ]
    }
   ],
   "source": [
    "# m is the number of training examples\n",
    "m = len(x_train)\n",
    "print(f\"O número de amostras de treinamento é: {m}\")"
   ]
  },
  {
   "cell_type": "markdown",
   "id": "f2546b57",
   "metadata": {
    "pycharm": {
     "name": "#%% md\n"
    }
   },
   "source": [
    "### Amostra de treinamento `x_i, y_i`\n",
    "\n",
    "Usaremos (x$^{(i)}$, y$^{(i)}$) para denotar a $i-$ésima amostra de treinamento. Uma vez que a Linguagem Python tem 0 como índice inicial, (x$^{(0)}$, y$^{(0)}$) é (0.2, 21.0) e (x$^{(1)}$, y$^{(1)}$) is (4.5, 430.0). \n",
    "\n",
    "A i-ésima posição da Numpy array `x_train` é acessada utilizando o comando `x_train[i]`, onde `i` denota a posição desejada.\n",
    "\n",
    "\n",
    "Veja o código abaixo."
   ]
  },
  {
   "cell_type": "code",
   "execution_count": 5,
   "id": "3e5655af",
   "metadata": {
    "pycharm": {
     "name": "#%%\n"
    }
   },
   "outputs": [
    {
     "name": "stdout",
     "output_type": "stream",
     "text": [
      "(x^(0), y^(0)) = (0.2, 21.0)\n"
     ]
    }
   ],
   "source": [
    "i = 0 # Mude esse valor para 1 para ver (x^1, y^1)\n",
    "\n",
    "x_i = x_train[i]\n",
    "y_i = y_train[i]\n",
    "print(f\"(x^({i}), y^({i})) = ({x_i}, {y_i})\")"
   ]
  },
  {
   "cell_type": "markdown",
   "id": "5b3cc549",
   "metadata": {
    "pycharm": {
     "name": "#%% md\n"
    }
   },
   "source": [
    "### Plotando os dados (gerando uma figura que mostra os dados)"
   ]
  },
  {
   "cell_type": "markdown",
   "id": "cc8b13c7",
   "metadata": {
    "pycharm": {
     "name": "#%% md\n"
    }
   },
   "source": [
    "Você pode plotar os dois pontos usando a função `scatter()` presente na biblioteca `matplotlib`, conforme mostrado abaixo. \n",
    "- Os argumentos `marker` e `c` mostra os pontos como x vermelhos (o padrão são pontos azuis).\n",
    "\n",
    "Você pode usar outras funções da biblioteca `matplotlib` para definir o título e os rótulos dos eixos"
   ]
  },
  {
   "cell_type": "code",
   "execution_count": 6,
   "id": "254e10fd",
   "metadata": {
    "pycharm": {
     "name": "#%%\n"
    }
   },
   "outputs": [
    {
     "data": {
      "image/png": "[encoded data removed]",
      "text/plain": [
       "<Figure size 432x288 with 1 Axes>"
      ]
     },
     "metadata": {
      "needs_background": "light"
     },
     "output_type": "display_data"
    }
   ],
   "source": [
    "# Plotando os pontos dos dados\n",
    "plt.scatter(x_train, y_train, marker='x', c='r')\n",
    "# Ajustando o título:\n",
    "plt.title(\"Tensões sobre um resistor\")\n",
    "# Ajustando o rótulo do eixo y \n",
    "plt.ylabel('Tensão (em Volts)')\n",
    "# Ajustando o rótulo do eixo x \n",
    "plt.xlabel('Corrente (em Àmperes)')\n",
    "plt.show()"
   ]
  },
  {
   "cell_type": "markdown",
   "id": "9f2fd255",
   "metadata": {
    "pycharm": {
     "name": "#%% md\n"
    }
   },
   "source": [
    "## Implementando um modelo\n",
    "\n",
    "O modelo de função para regressão linear (que é a função que faz o mapeamento de `x` para `y`) é representado por \n",
    "\n",
    "$$ f_{w,b}(x^{(i)}) = wx^{(i)} + b \\tag{1}$$\n",
    "\n",
    "A fórmula acima nos mostra a equação da reta: diferentes valores para $w$ e $b$ levam a differentes retas. <br/> <br/> <br/> <br/> <br/> \n",
    "\n",
    "\n",
    "Vamos tentar ganhar mais intuição usando o código abaixo. Vamos começar com $w = 0$ and $b = 100$. \n",
    "\n",
    "**OBS: Você pode retornar à célula abaixo para ajustar diferentes valores para os parâmetros w e b do modelo**"
   ]
  },
  {
   "cell_type": "code",
   "execution_count": 7,
   "id": "f2e9d602",
   "metadata": {
    "pycharm": {
     "name": "#%%\n"
    }
   },
   "outputs": [
    {
     "name": "stdout",
     "output_type": "stream",
     "text": [
      "w: 0\n",
      "b: 100\n"
     ]
    }
   ],
   "source": [
    "w = 0\n",
    "b = 100\n",
    "print(f\"w: {w}\")\n",
    "print(f\"b: {b}\")"
   ]
  },
  {
   "cell_type": "markdown",
   "id": "f183098d",
   "metadata": {
    "pycharm": {
     "name": "#%% md\n"
    }
   },
   "source": [
    "Agora, vamos computar o valor $f_{w,b}(x^{(i)})$ para os dois dados que temos. Você pode explicitamente escrever: \n",
    "\n",
    "para $x^{(0)}$, `f_wb = w * x[0] + b`\n",
    "\n",
    "para $x^{(1)}$, `f_wb = w * x[1] + b`\n",
    "\n",
    "Para uma grande quantidade de dados, isso pode ser repetitivo e penoso. Ao invés disso, você pode usar um loop do tipo `for` conforme mostrado na função `calcula_saida_do_modelo` abaixo.\n",
    "> **OBS**: O argumento `(ndarray (m,))` descreve uma Numpy array de n dimensões da forma (m,). `(scalar)` descreve um argumento sem dimensões, apenas uma magnitude.  \n",
    "> **OBS**: `np.zero(n)` retorna uma numpy array de 1 dimensão com $n$ valores   \n"
   ]
  },
  {
   "cell_type": "code",
   "execution_count": 8,
   "id": "d3f7b759",
   "metadata": {
    "pycharm": {
     "name": "#%%\n"
    }
   },
   "outputs": [],
   "source": [
    "def calcula_saida_do_modelo(x, w, b):\n",
    "    \"\"\"\n",
    "    Calcula a previsão para um modelo na forma de reta\n",
    "    Argumentos da função:\n",
    "      x (ndarray (m,)): Conjunto de dados com m amostras \n",
    "      w,b (escalar)   : Parâmetros do modelo  \n",
    "    Retorna\n",
    "      y (ndarray (m,)): Previsão de saída\n",
    "    \"\"\"\n",
    "    m = x.shape[0]\n",
    "    f_wb = np.zeros(m)\n",
    "    for i in range(m): # estrutura 'for' em Python\n",
    "        f_wb[i] = w * x[i] + b\n",
    "        \n",
    "    return f_wb"
   ]
  },
  {
   "cell_type": "markdown",
   "id": "a27a359f",
   "metadata": {
    "pycharm": {
     "name": "#%% md\n"
    }
   },
   "source": [
    "Agora vamos chamar a função `calcula_saida_do_modelo` e plotar o resultado"
   ]
  },
  {
   "cell_type": "code",
   "execution_count": 9,
   "id": "4d72a1a5",
   "metadata": {
    "pycharm": {
     "name": "#%%\n"
    }
   },
   "outputs": [
    {
     "data": {
      "image/png": "[encoded data removed]",
      "text/plain": [
       "<Figure size 432x288 with 1 Axes>"
      ]
     },
     "metadata": {
      "needs_background": "light"
     },
     "output_type": "display_data"
    }
   ],
   "source": [
    "f_wb_calculado = calcula_saida_do_modelo(x_train, w, b,)\n",
    "\n",
    "# Plotando a previsão feita pelo modelo\n",
    "plt.plot(x_train, f_wb_calculado, c='b',label='Nosso modelo')\n",
    "\n",
    "# Plotando os dados medidos\n",
    "plt.scatter(x_train, y_train, marker='x', c='r',label='Valores dos dados')\n",
    "\n",
    "# Definindo o título\n",
    "plt.title(\"Tensões sobre um resistor\")\n",
    "# Ajustando o rótulo do eixo y \n",
    "plt.ylabel('Tensão (em Volts)')\n",
    "# Ajustando o rótulo do eixo x \n",
    "plt.xlabel('Corrente (em Àmperes)')\n",
    "plt.legend()\n",
    "plt.show()\n"
   ]
  },
  {
   "cell_type": "markdown",
   "id": "3ef91640",
   "metadata": {
    "pycharm": {
     "name": "#%% md\n"
    }
   },
   "source": [
    "Como você pode ver, definindo $w = 0$ e $b = 100$ *não* resulta numa reta que se ajusta aos nossos dados. \n",
    "\n",
    "### Desafio\n",
    "Tente diferentes valores para $w$ e $b$. Quais seriam os melhores valores para esse conjunto de dados?\n",
    "\n",
    "Qual seria uma possível interpretação física para o parâmetro $w$ nesse exemplo?\n"
   ]
  },
  {
   "cell_type": "markdown",
   "id": "cef27469",
   "metadata": {
    "pycharm": {
     "name": "#%% md\n"
    }
   },
   "source": [
    "### Previsão\n",
    "\n",
    "Agora que temos um modelo, podemos usá-lo para fazer uma previsão para um valor diferente de corrente. Vamos estimar a tensão para uma corrente de 2 A.\n"
   ]
  },
  {
   "cell_type": "code",
   "execution_count": 10,
   "id": "c3fe4895",
   "metadata": {
    "pycharm": {
     "name": "#%%\n"
    }
   },
   "outputs": [
    {
     "name": "stdout",
     "output_type": "stream",
     "text": [
      "200 Volts\n"
     ]
    }
   ],
   "source": [
    "w = 100                         \n",
    "b = 0    \n",
    "x_i = 2\n",
    "tensao_para_2_amperes = w * x_i + b    \n",
    "\n",
    "print(f\"{tensao_para_2_amperes:.0f} Volts\")"
   ]
  },
  {
   "cell_type": "markdown",
   "id": "31c85d61",
   "metadata": {
    "pycharm": {
     "name": "#%% md\n"
    }
   },
   "source": [
    "# Parabéns!\n",
    "\n",
    "Com este código, você aprendeu:\n",
    " - Que a Regressão Linear constrói um modelo que estabelece uma relação entre as características de entrada e a variável alvo de saída\n",
    "     - No exemplo, a característica de entrada era a corrente e a variável alvo era a tensão sobre o resistor\n",
    "     - Para uma simples regressão linear, o modelo tem dois parâmetros $w$ e $b$ cujos valores são ajustados 'fit' usando um conjunto de dados de treinamento.\n",
    "     - Uma vez que os parâmetros do modelo foram determinados, o modelo pode ser usado para fazer previsões (estimativas) para novos dados ainda utilizados anteriormente"
   ]
  }
 ],
 "metadata": {
  "kernelspec": {
   "display_name": "Python 3 (ipykernel)",
   "language": "python",
   "name": "python3"
  },
  "language_info": {
   "codemirror_mode": {
    "name": "ipython",
    "version": 3
   },
   "file_extension": ".py",
   "mimetype": "text/x-python",
   "name": "python",
   "nbconvert_exporter": "python",
   "pygments_lexer": "ipython3",
   "version": "3.9.12"
  },
  "toc-autonumbering": false
 },
 "nbformat": 4,
 "nbformat_minor": 5
}
