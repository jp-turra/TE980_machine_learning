{
 "cells": [
  {
   "cell_type": "markdown",
   "id": "78220b29",
   "metadata": {
    "pycharm": {
     "name": "#%% md\n"
    }
   },
   "source": [
    "# Código - Função custo\n",
    "\n"
   ]
  },
  {
   "cell_type": "markdown",
   "id": "269658ca",
   "metadata": {
    "pycharm": {
     "name": "#%% md\n"
    }
   },
   "source": [
    "## Objetivo\n",
    "\n",
    "- Implementar e explorar a função `custo` utilizada na regressão linear com uma variável.\n"
   ]
  },
  {
   "cell_type": "markdown",
   "id": "2ae5690d",
   "metadata": {
    "pycharm": {
     "name": "#%% md\n"
    }
   },
   "source": [
    "## Ferramentas\n",
    "\n",
    "Nesse código, você usará: \n",
    "- NumPy, uma biblioteca popular para cálculos matriciais, etc\n",
    "- Matplotlib, uma biblioteca popular para gerar figuras a partir de dados"
   ]
  },
  {
   "cell_type": "code",
   "execution_count": 1,
   "id": "2649614f",
   "metadata": {
    "pycharm": {
     "name": "#%%\n"
    }
   },
   "outputs": [],
   "source": [
    "import numpy as np\n",
    "import matplotlib.pyplot as plt"
   ]
  },
  {
   "cell_type": "markdown",
   "id": "343c823e",
   "metadata": {
    "pycharm": {
     "name": "#%% md\n"
    }
   },
   "source": [
    "## Definição do Problema\n",
    "\n",
    "Você gostaria de estimar a tensão sobre um resistor com base no seu valor de corrente.\n",
    "\n",
    "Usaremos as mesmas amostras de dados que já utilizamos no código anterior: \n",
    "\n",
    "| Corrente (A)     | Tensão (V) |\n",
    "| -------------------| ------------------------ |\n",
    "| 0.2               | 21                      |\n",
    "| 4.5               | 430                      |\n"
   ]
  },
  {
   "cell_type": "code",
   "execution_count": 2,
   "id": "a80bf969",
   "metadata": {
    "pycharm": {
     "name": "#%%\n"
    }
   },
   "outputs": [
    {
     "name": "stdout",
     "output_type": "stream",
     "text": [
      "[0.2 4.5]\n",
      "[ 21. 430.]\n"
     ]
    }
   ],
   "source": [
    "x_train = np.array([0.2, 4.5]) # Corrente\n",
    "y_train = np.array([21.0, 430.0]) # Tensão\n",
    "\n",
    "print(x_train)\n",
    "print(y_train)"
   ]
  },
  {
   "cell_type": "markdown",
   "id": "eb6e8b54",
   "metadata": {
    "pycharm": {
     "name": "#%% md\n"
    }
   },
   "source": [
    "## Calculando o Custo\n",
    "\n",
    "O custo mede o quão bem o nosso modelo está estimando a tensão sobre o resistor.\n",
    "\n",
    "A equação para o custo com uma variável é:\n",
    "  $$J(w,b) = \\frac{1}{2m} \\sum\\limits_{i = 0}^{m-1} (f_{w,b}(x^{(i)}) - y^{(i)})^2 \\tag{1}$$ \n",
    " \n",
    "onde \n",
    "  $$f_{w,b}(x^{(i)}) = wx^{(i)} + b \\tag{2}$$\n",
    "  \n",
    "- $f_{w,b}(x^{(i)})$ é a nossa previsão para a amostra $i$ usando os parâmetros $w,b$.  \n",
    "- $(f_{w,b}(x^{(i)}) -y^{(i)})^2$ é o erro quadrático entre o valor alvo (medido) e a previsão (estimativa) feita pelo modelo.   \n",
    "- Esses erros são somados para todas as $m$ amostras e divididas por `2m` para produzir o custo $J(w,b)$.  \n",
    ">OBS: Nos slides da disciplina, o somatório vai tipicamente de 1 até m. Por outro lado, no código ele vai de 0 até m-1, já que em Python tem-se como zero a referência de indexação para vetores e matrizes\n"
   ]
  },
  {
   "cell_type": "markdown",
   "id": "1e414f69",
   "metadata": {
    "pycharm": {
     "name": "#%% md\n"
    }
   },
   "source": [
    "O código abaixo calcula o custo fazendo um loop que inclui cada amostra. Para cada iteração do loop:\n",
    "- a saída do modelo `f_wb` é calculada (previsão)\n",
    "- a diferença (erro) entre a saída alvo e a previsão é calculada e elevada ao quadrado.\n",
    "- essa quantidade é adicionada ao custo total."
   ]
  },
  {
   "cell_type": "code",
   "execution_count": 7,
   "id": "21c9688a",
   "metadata": {
    "pycharm": {
     "name": "#%%\n"
    }
   },
   "outputs": [],
   "source": [
    "def calcula_custo(x: np.ndarray, y: np.ndarray, w: float, b: float) -> float: \n",
    "    \"\"\"\n",
    "    Calcula a função custo no âmbito da regressão linear.\n",
    "    Argumentos da função:\n",
    "      x (ndarray (m,)): Conjunto de dados com m amostras \n",
    "      y (ndarray (m,)): Valores alvo de saída\n",
    "      w,b (escalar)   : Parâmetros do modelo  \n",
    "    Retorna\n",
    "      custo_total (float): O custo custo de se usar w,b como parâmetros na regressão linear\n",
    "               para ajustar os dados\n",
    "    \"\"\"\n",
    "    # número de amostras de treinamento\n",
    "    m = x.shape[0] \n",
    "    \n",
    "    soma_custo = 0 \n",
    "    for i in range(m): \n",
    "        f_wb = w * x[i] + b  # Monta equação estimativa\n",
    "        custo = (f_wb - y[i]) ** 2  # Calcula o erro quadrático\n",
    "        soma_custo = soma_custo + custo  # Somatório o erro quadrático\n",
    "    custo_total = (1 / (2 * m)) * soma_custo # Calcula erro quadrático médio\n",
    "\n",
    "    return custo_total"
   ]
  },
  {
   "cell_type": "code",
   "execution_count": 60,
   "id": "631fa172",
   "metadata": {},
   "outputs": [],
   "source": [
    "def calcula_saida_do_modelo(x, w, b):\n",
    "    \"\"\"\n",
    "    Calcula a previsão para um modelo na forma de reta\n",
    "    Argumentos da função:\n",
    "      x (ndarray (m,)): Conjunto de dados com m amostras \n",
    "      w,b (escalar)   : Parâmetros do modelo  \n",
    "    Retorna\n",
    "      y (ndarray (m,)): Previsão de saída\n",
    "    \"\"\"\n",
    "    m = x.shape[0]\n",
    "    f_wb = np.zeros(m)\n",
    "    for i in range(m): # estrutura 'for' em Python\n",
    "        f_wb[i] = w * x[i] + b\n",
    "        \n",
    "    return f_wb"
   ]
  },
  {
   "cell_type": "markdown",
   "id": "f0516489",
   "metadata": {
    "pycharm": {
     "name": "#%% md\n"
    }
   },
   "source": [
    "## Função custo: uma visão intuitiva"
   ]
  },
  {
   "cell_type": "markdown",
   "id": "e66fdec2",
   "metadata": {
    "pycharm": {
     "name": "#%% md\n"
    }
   },
   "source": [
    "O seu objetivo agora é encontrar um modelo $f_{w,b}(x) = wx + b$, com parâmetros $w,b$, que seja capaz de estimar com precisão a tensão sobre um resistor para uma dada corrente de entrada $x$. O custo é a medida do quão bem o modelo performa com base nos dados de treinamento.\n",
    "\n",
    "A função custo (1) acima mostra que, se $w$ e $b$ podem ser selecionados tal que as previsões $f_{w,b}(x)$ são iguais aos dados em $y$, então o termo $(f_{w,b}(x^{(i)}) - y^{(i)})^2 $ será zero e o custo é minimizado. Neste exemplo simples que possui apenas dois pontos, você pode conseguir exatamente isso.\n",
    "\n",
    "No código anterior, você já encontrou valores para $w,b$ que resultam num modelo preciso. Insira esses valores no código abaixo e verifique o custo associado. Se necessário, refine os valores escolhidos para $w,b$ até que um custo $J(w,b)$ próximo de zero seja obtido."
   ]
  },
  {
   "cell_type": "code",
   "execution_count": 5,
   "id": "873cd691",
   "metadata": {},
   "outputs": [
    {
     "name": "stdout",
     "output_type": "stream",
     "text": [
      "Sample count:  2\n"
     ]
    },
    {
     "data": {
      "image/png": "[encoded data removed]",
      "text/plain": [
       "<Figure size 640x480 with 1 Axes>"
      ]
     },
     "metadata": {},
     "output_type": "display_data"
    },
    {
     "name": "stdout",
     "output_type": "stream",
     "text": [
      "Custo J para esse conjunto de parâmetros w,b: 28785.25\n"
     ]
    }
   ],
   "source": [
    "w = 0\n",
    "b = 100\n",
    "\n",
    "# Calculando a tensão estimada para o modelo para as correntes em x_train\n",
    "m    = x_train.shape[0]\n",
    "f_wb = np.zeros(m)\n",
    "for i in range(m):\n",
    "    f_wb[i] = w * x_train[i] + b\n",
    "\n",
    "J = calcula_custo(x_train, y_train, w, b)\n",
    "\n",
    "# Plotando a previsão feita pelo modelo\n",
    "plt.plot(x_train, f_wb, c='b',label='Nosso modelo')\n",
    "\n",
    "# Plotando os dados medidos\n",
    "plt.scatter(x_train, y_train, marker='x', c='r',label='Valores dos dados')\n",
    "\n",
    "# Ajustando o rótulo do eixo y \n",
    "plt.ylabel('Tensão (em Volts)')\n",
    "# Ajustando o rótulo do eixo x \n",
    "plt.xlabel('Corrente (em Àmperes)')\n",
    "plt.legend()\n",
    "plt.show()\n",
    "\n",
    "print(f\"Custo J para esse conjunto de parâmetros w,b: {J}\")"
   ]
  },
  {
   "cell_type": "markdown",
   "id": "eda97809",
   "metadata": {
    "pycharm": {
     "name": "#%% md\n"
    }
   },
   "source": [
    "Note no código abaixo que, fixando o valor de $b$ em $b=0$, podemos verificar como é o gráfico da função custo $J$ em função do parâmetro $w$."
   ]
  },
  {
   "cell_type": "code",
   "execution_count": 8,
   "id": "e8d1bbcf",
   "metadata": {},
   "outputs": [
    {
     "data": {
      "image/png": "[encoded data removed]",
      "text/plain": [
       "<Figure size 640x480 with 1 Axes>"
      ]
     },
     "metadata": {},
     "output_type": "display_data"
    }
   ],
   "source": [
    "b = 0\n",
    "\n",
    "valores_para_w = np.array([90, 91, 92, 93, 94, 95, 96, 97, 98, 99, 100])\n",
    "\n",
    "qtdade_de_valores = valores_para_w.shape[0]\n",
    "\n",
    "J = np.zeros(qtdade_de_valores)\n",
    "\n",
    "for i in range(qtdade_de_valores):\n",
    "    w    = valores_para_w[i]\n",
    "    J[i] = calcula_custo(x_train, y_train, w, b)\n",
    "    \n",
    "# Plotando o custo em J para diferentes valores de w\n",
    "plt.plot(valores_para_w, J, c='b')\n",
    "\n",
    "# Ajustando o rótulo do eixo y \n",
    "plt.ylabel('J(w)')\n",
    "# Ajustando o rótulo do eixo x \n",
    "plt.xlabel('w')\n",
    "plt.show()"
   ]
  },
  {
   "cell_type": "markdown",
   "id": "0c01197c",
   "metadata": {
    "pycharm": {
     "name": "#%% md\n"
    }
   },
   "source": [
    "Alguns pontos podem ser destacados\n",
    "- O custo é minimizado para $b$ próximo de 0 e para $w$ próximo de 96. Tais resultados estão de acordo com os resultados vistos no último código.\n",
    "- Uma vez que o erro entre o valor medido e a previsão é elevado ao quadrado na função custo, o custo rapidamente cresce quando $w$ se distancia do seu valor ideal.\n",
    "- Se `w` e `b` forem selecionados de forma que $J=0$, isso significa que o modelo se ajusta perfeitamente aos dados."
   ]
  },
  {
   "cell_type": "markdown",
   "id": "54eabff4",
   "metadata": {
    "pycharm": {
     "name": "#%% md\n"
    }
   },
   "source": [
    "# Parabéns!\n",
    "Você aprendeu o seguinte nesse código:\n",
    " - A função custo nos fornece uma medida de quão boas são as estimativas feitas pelo nosso modelo\n",
    " - Minimizar a função custo pode nos levar a valores ótimos para $w$, $b$."
   ]
  },
  {
   "cell_type": "code",
   "execution_count": null,
   "id": "5e2f2d66",
   "metadata": {
    "pycharm": {
     "name": "#%%\n"
    }
   },
   "outputs": [],
   "source": []
  },
  {
   "attachments": {},
   "cell_type": "markdown",
   "id": "1d9488f6",
   "metadata": {},
   "source": [
    "# Exercício\n",
    "Insira no código da Parte 1 o conjunto de medições que você já criou anteriormente para um resistor de 50 Ω, faça as adaptações necessárias e verifique os resultados."
   ]
  },
  {
   "cell_type": "code",
   "execution_count": 83,
   "id": "f1da1d2f",
   "metadata": {},
   "outputs": [
    {
     "data": {
      "image/png": "[encoded data removed]",
      "text/plain": [
       "<Figure size 640x480 with 1 Axes>"
      ]
     },
     "metadata": {},
     "output_type": "display_data"
    }
   ],
   "source": [
    "r = 50\n",
    "i = np.array(np.random.random(10))\n",
    "v = np.ndarray(i.shape)\n",
    "\n",
    "v = r * i + np.random.randn(i.shape[0])*2.5\n",
    "\n",
    "# x_train = np.array([0.2, 4.5]) # Corrente\n",
    "x_train = i\n",
    "# y_train = np.array([21.0, 430.0]) # Tensão\n",
    "y_train = v\n",
    "\n",
    "plt.scatter(i, v)\n",
    "plt.show()"
   ]
  },
  {
   "cell_type": "code",
   "execution_count": 84,
   "id": "b7606a27",
   "metadata": {},
   "outputs": [
    {
     "name": "stdout",
     "output_type": "stream",
     "text": [
      "Best W:  50\n",
      "Minor J:  3.5032135629394605\n"
     ]
    },
    {
     "data": {
      "text/plain": [
       "[<matplotlib.lines.Line2D at 0x2117461ec10>]"
      ]
     },
     "execution_count": 84,
     "metadata": {},
     "output_type": "execute_result"
    },
    {
     "data": {
      "image/png": "[encoded data removed]",
      "text/plain": [
       "<Figure size 500x500 with 2 Axes>"
      ]
     },
     "metadata": {},
     "output_type": "display_data"
    }
   ],
   "source": [
    "# Define b e w base\n",
    "b = 0\n",
    "w = np.arange(0, 100, 10)\n",
    "\n",
    "# Get the x_train shape\n",
    "m = x_train.shape[0]\n",
    "\n",
    "# Get the w shape of desired values\n",
    "w_size = w.shape[0]\n",
    "\n",
    "# Initialize cost function\n",
    "J = np.zeros(w_size)\n",
    "\n",
    "min_J = 0\n",
    "best_w = 0\n",
    "\n",
    "# Get all cost funciton values\n",
    "for index in range(w_size):\n",
    "    J[index] = calcula_custo(x_train, y_train, w[index], b)\n",
    "    if index == 0:\n",
    "        min_J = J[index]\n",
    "        best_w = w[index]\n",
    "    elif min_J > J[index]:\n",
    "        min_J = J[index]\n",
    "        best_w = w[index]\n",
    "\n",
    "\n",
    "print(\"Best W: \", best_w)\n",
    "print(\"Minor J: \", min_J)\n",
    "\n",
    "# Estimate values\n",
    "Fwd = calcula_saida_do_modelo(x_train, best_w, b)\n",
    "\n",
    "# Plot results\n",
    "fig = plt.figure(figsize=(5,5))\n",
    "sp1 = plt.subplot(1, 2, 1)\n",
    "sp2 = plt.subplot(1, 2, 2)\n",
    "\n",
    "# Função de custo\n",
    "# plt.title(\"Função Custo\")\n",
    "sp1.plot(w, J)\n",
    "\n",
    "# Reta estimada\n",
    "# plt.title(\"Reta estimada\")\n",
    "sp2.scatter(x_train, y_train)\n",
    "sp2.plot(x_train, Fwd)\n",
    "\n",
    "# fig.show()"
   ]
  }
 ],
 "metadata": {
  "kernelspec": {
   "display_name": "Python 3 (ipykernel)",
   "language": "python",
   "name": "python3"
  },
  "language_info": {
   "codemirror_mode": {
    "name": "ipython",
    "version": 3
   },
   "file_extension": ".py",
   "mimetype": "text/x-python",
   "name": "python",
   "nbconvert_exporter": "python",
   "pygments_lexer": "ipython3",
   "version": "3.9.13"
  },
  "toc-autonumbering": false
 },
 "nbformat": 4,
 "nbformat_minor": 5
}
