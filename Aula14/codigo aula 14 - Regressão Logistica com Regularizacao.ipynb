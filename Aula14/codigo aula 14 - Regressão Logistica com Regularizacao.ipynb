{
 "cells": [
  {
   "cell_type": "markdown",
   "id": "9623a828",
   "metadata": {
    "pycharm": {
     "name": "#%% md\n"
    }
   },
   "source": [
    "# Regressão Logística com Regularização\n",
    "\n",
    "## Objetivos\n",
    "\n",
    "Com este código, você irá:\n",
    "- Modificar as funções do nosso código anterior, para agora contemplar a Regularização.\n",
    "- Note que testaremos nosso algoritmo regularizado num novo conjunto de dados que exigirá a adição de termos polinomiais ao modelo"
   ]
  },
  {
   "cell_type": "code",
   "execution_count": 1,
   "id": "26b54c01",
   "metadata": {
    "pycharm": {
     "name": "#%%\n"
    }
   },
   "outputs": [],
   "source": [
    "import math\n",
    "import numpy as np\n",
    "import matplotlib.pyplot as plt\n",
    "from nossa_biblioteca_de_funcoes import *   # Importando as funções auxiliares que usaremos nesse código"
   ]
  },
  {
   "cell_type": "markdown",
   "id": "ac3d9232",
   "metadata": {},
   "source": [
    "Neste código, você implementará a Regressão Logística com Regularização para prever se os microchips de uma fábrica passam num determinado teste de garantia de qualidade (GQ). Durante tal teste de GQ, cada microchip passa por diversos testes que garantem que ele está funcionando corretamente.\n",
    "\n",
    "### Definição do Problema\n",
    "\n",
    "Suponha que você seja o gerente de produto de uma fábrica e você têm acesso aos resultados para dois diferentes testes realizados nos microchips\n",
    "- Destes dois testes, você gostaria de determinar se os chips devem ser aprovados ou rejeitados\n",
    "- Para ajudar na sua tomada de decisão, você tem um banco de dados contendo os resultados de microchips passados. Você usará esses dados para construir um modelo de Regressão Logística\n"
   ]
  },
  {
   "cell_type": "markdown",
   "id": "9e641497",
   "metadata": {
    "pycharm": {
     "name": "#%% md\n"
    }
   },
   "source": [
    "## Carregando os dados:"
   ]
  },
  {
   "cell_type": "code",
   "execution_count": 2,
   "id": "67073772",
   "metadata": {
    "pycharm": {
     "name": "#%%\n"
    },
    "tags": []
   },
   "outputs": [],
   "source": [
    "file = open('dados_microchip.txt') # As duas primeiras colunas referem-se às características -> resultados obtidos pelos microchips nos teste 1 e 2\n",
    "                                   # A terceira (última) coluna refere-se ao resultado do teste de GQ (1 significa chip aprovado)\n",
    "dados = np.loadtxt(file, delimiter=\",\") \n",
    "\n",
    "X_train = dados[:,0:2]\n",
    "y_train = dados[:,-1] # pega apenas a última coluna."
   ]
  },
  {
   "cell_type": "markdown",
   "id": "01e19f90",
   "metadata": {},
   "source": [
    "Vizualizando numericamente os dados:"
   ]
  },
  {
   "cell_type": "code",
   "execution_count": 3,
   "id": "934ebccc",
   "metadata": {},
   "outputs": [
    {
     "name": "stdout",
     "output_type": "stream",
     "text": [
      "X_train: [[ 0.051267  0.69956 ]\n",
      " [-0.092742  0.68494 ]\n",
      " [-0.21371   0.69225 ]\n",
      " [-0.375     0.50219 ]\n",
      " [-0.51325   0.46564 ]]\n",
      "Tipo do X_train: <class 'numpy.ndarray'>\n",
      "y_train: [1. 1. 1. 1. 1.]\n",
      "Tipo do y_train: <class 'numpy.ndarray'>\n"
     ]
    }
   ],
   "source": [
    "# print X_train\n",
    "print(\"X_train:\", X_train[:5])\n",
    "print(\"Tipo do X_train:\",type(X_train))\n",
    "\n",
    "# print y_train\n",
    "print(\"y_train:\", y_train[:5])\n",
    "print(\"Tipo do y_train:\",type(y_train))"
   ]
  },
  {
   "cell_type": "markdown",
   "id": "8e0f55a3",
   "metadata": {},
   "source": [
    "#### Cheque as dimensões das suas variáveis\n",
    "\n",
    "\n",
    "Uma outra forma útil para se familizarizar com os dados é visualizar suas dimensões.\n",
    "Vamos dar print dos shapes de `X_train` e `y_train`para verificar quantas amostras de treinamento nós temos no nosso conjunto de dados.\n"
   ]
  },
  {
   "cell_type": "code",
   "execution_count": 4,
   "id": "7dd374b1",
   "metadata": {},
   "outputs": [
    {
     "name": "stdout",
     "output_type": "stream",
     "text": [
      "O shape de X_train é: (118, 2)\n",
      "O shape de y_train é: (118,)\n",
      "Nós temos 118 exemplos (amostras) de treinamento\n"
     ]
    }
   ],
   "source": [
    "print ('O shape de X_train é: ' + str(X_train.shape))\n",
    "print ('O shape de y_train é: ' + str(y_train.shape))\n",
    "print ('Nós temos %d exemplos (amostras) de treinamento' % (len(y_train)))"
   ]
  },
  {
   "cell_type": "markdown",
   "id": "a33cd102",
   "metadata": {
    "pycharm": {
     "name": "#%% md\n"
    }
   },
   "source": [
    "Plotando os dados:"
   ]
  },
  {
   "cell_type": "code",
   "execution_count": 5,
   "id": "3f392f8c",
   "metadata": {
    "pycharm": {
     "name": "#%%\n"
    }
   },
   "outputs": [
    {
     "data": {
      "image/png": "[encoded data removed]",
      "text/plain": [
       "<Figure size 288x288 with 1 Axes>"
      ]
     },
     "metadata": {
      "needs_background": "light"
     },
     "output_type": "display_data"
    }
   ],
   "source": [
    "pos = y_train == 1 # identifica os elementos em y que são iguais a 1\n",
    "neg = y_train == 0 # identifica os elementos em y que são iguais a 0\n",
    "\n",
    "fig,ax = plt.subplots(1,1,figsize=(4,4))\n",
    "ax.plot(X_train[pos,0], X_train[pos,1], 'k+', label=\"Aprovado\")\n",
    "ax.plot(X_train[neg,0], X_train[neg,1], 'yo', label=\"Reprovado\")\n",
    "\n",
    "#ax.axis([0, 4, 0, 3.5])\n",
    "ax.set_ylabel('Teste 2 no microchip')\n",
    "ax.set_xlabel('Teste 1 no microchip')\n",
    "ax.legend()\n",
    "plt.show()"
   ]
  },
  {
   "cell_type": "markdown",
   "id": "afd93be5",
   "metadata": {},
   "source": [
    "A figura acima mostra que nosso conjunto de dados não pode ser separado em amostras positivas e negativas usando uma reta. Logo, uma aplicação direta da Regressão Logística não irá performar bem nesse conjunto de dados umas vez que a Regressão Logística não conseguirá encontrar uma Fronteira de Decisão linear adequada."
   ]
  },
  {
   "cell_type": "markdown",
   "id": "c19759b8",
   "metadata": {},
   "source": [
    "### Mapeamento de características\n",
    "\n",
    "\n",
    "Uma forma de ajustar os dados melhor é criar mais características para cada amostra. Na função `mapeia_caracteristicas`, nós vamos mapear as características para todos os termos polinomiais de $x_1$ e $x_2$ até a sexta potência.\n",
    "\n",
    "$$\\mathrm{mapeia\\_caracteristicas}(x) = \n",
    "\\left[\\begin{array}{c}\n",
    "x_1\\\\\n",
    "x_2\\\\\n",
    "x_1^2\\\\\n",
    "x_1 x_2\\\\\n",
    "x_2^2\\\\\n",
    "x_1^3\\\\\n",
    "\\vdots\\\\\n",
    "x_1 x_2^5\\\\\n",
    "x_2^6\\end{array}\\right]$$\n",
    "\n",
    "Como um resultado desse mapeamento, nosso vetor de duas características (as pontuações nos dois testes) foi transformado em um vetor de 27 dimensões.\n",
    "- Um classificador de regressão logística treinado para essa dimensão elevada terá uma fronteira de decisão complexa e será não linear ao plotarmos ela num gráfico com 2 dimensões.\n",
    "- A função `mapeia_caracteristicas` está sendo fornecida (não é necessário programá-la) dentro do arquivo nossa_biblioteca_de_funcoes.py. \n",
    "- Visite o arquivo nossa_biblioteca_de_funcoes.py para ver como a função `mapeia_caracteristicas` foi escrita."
   ]
  },
  {
   "cell_type": "code",
   "execution_count": 6,
   "id": "74a1730a",
   "metadata": {},
   "outputs": [
    {
     "name": "stdout",
     "output_type": "stream",
     "text": [
      "Shape original dos dados: (118, 2)\n",
      "Shape após o mapeamento de características: (118, 27)\n"
     ]
    }
   ],
   "source": [
    "print(\"Shape original dos dados:\", X_train.shape)\n",
    "\n",
    "mapped_X =  mapeia_caracteristicas(X_train[:, 0], X_train[:, 1])\n",
    "print(\"Shape após o mapeamento de características:\", mapped_X.shape)"
   ]
  },
  {
   "cell_type": "markdown",
   "id": "817a788b",
   "metadata": {},
   "source": [
    "Vamos também plotar os primeiros elementos de `X_train` e `mapped_X` para vermos a transformação."
   ]
  },
  {
   "cell_type": "code",
   "execution_count": 7,
   "id": "5cbd5949",
   "metadata": {},
   "outputs": [
    {
     "name": "stdout",
     "output_type": "stream",
     "text": [
      "X_train[0]: [0.051267 0.69956 ]\n",
      "mapped X_train[0]: [5.12670000e-02 6.99560000e-01 2.62830529e-03 3.58643425e-02\n",
      " 4.89384194e-01 1.34745327e-04 1.83865725e-03 2.50892595e-02\n",
      " 3.42353606e-01 6.90798869e-06 9.42624411e-05 1.28625106e-03\n",
      " 1.75514423e-02 2.39496889e-01 3.54151856e-07 4.83255257e-06\n",
      " 6.59422333e-05 8.99809795e-04 1.22782870e-02 1.67542444e-01\n",
      " 1.81563032e-08 2.47750473e-07 3.38066048e-06 4.61305487e-05\n",
      " 6.29470940e-04 8.58939846e-03 1.17205992e-01]\n"
     ]
    }
   ],
   "source": [
    "print(\"X_train[0]:\", X_train[0])\n",
    "print(\"mapped X_train[0]:\", mapped_X[0])"
   ]
  },
  {
   "cell_type": "markdown",
   "id": "fb96b9dd",
   "metadata": {},
   "source": [
    "Uma vez que o mapeamento de características nos permite construir um classificador mais expressivo, ele também está mais suscetível ao overfitting. Para lidar com esse problema, a seguir nós implementamos o método de Regressão Logística com Regularização."
   ]
  },
  {
   "cell_type": "markdown",
   "id": "2f40f6d2",
   "metadata": {
    "pycharm": {
     "name": "#%% md\n"
    }
   },
   "source": [
    "## Função Custo com Regularização\n",
    "\n",
    "Na Regressão Logística com regularização, a função custo tem a forma \n",
    "\n",
    "$$ J(\\mathbf{w},b) = \\frac{1}{m} \\sum_{i=0}^{m-1} \\left[ -y^{(i)} \\log\\left(f_{\\mathbf{w},b}\\left( \\mathbf{x}^{(i)} \\right) \\right) - \\left( 1 - y^{(i)}\\right) \\log \\left( 1 - f_{\\mathbf{w},b}\\left( \\mathbf{x}^{(i)} \\right) \\right) \\right] + \\frac{\\lambda}{2m}  \\sum_{j=0}^{n-1} w_j^2 \\tag{1}$$\n",
    "\n",
    "onde    \n",
    "*  m é o número de amostras de treinamento, n é o número de características e:\n",
    "$$\n",
    "\\begin{align}\n",
    "  f_{\\mathbf{w},b}(\\mathbf{x^{(i)}}) &= g(z^{(i)})\\tag{3} \\\\\n",
    "  z^{(i)} &= \\mathbf{w} \\cdot \\mathbf{x}^{(i)}+ b\\tag{4} \\\\\n",
    "  g(z^{(i)}) &= \\frac{1}{1+e^{-z^{(i)}}}\\tag{5} \n",
    "\\end{align}\n",
    "$$\n",
    " "
   ]
  },
  {
   "cell_type": "markdown",
   "id": "6f64a3ed",
   "metadata": {
    "pycharm": {
     "name": "#%% md\n"
    }
   },
   "source": [
    "#### Descrição do Código abaixo:\n",
    "\n",
    "A função `calcula_custo_RegLog` abaixo faz um loop passando por todas as amostras e calculando a perda para cada exemplo.\n",
    "O total então é computado e depois divido por m. Por fim, o termo relativo à Regularização é adicionado\n",
    "\n",
    "Note que as variáveis X e y não são escalares mas sim matrizes de shape ($m, n$) e ($𝑚$,) respectivamente, onde  $𝑛$ é o número de características e $𝑚$ é o número de amostras de treinamento.\n"
   ]
  },
  {
   "cell_type": "code",
   "execution_count": 8,
   "id": "63409143",
   "metadata": {
    "pycharm": {
     "name": "#%%\n"
    }
   },
   "outputs": [],
   "source": [
    "def calcula_custo_RegLog_com_regu(X, y, w, b, lambda_ = 1):\n",
    "    \"\"\"\n",
    "    Calcula a função custo para Regressão Logística com Regularização\n",
    "\n",
    "    Argumentos:\n",
    "      X (ndarray (m,n)): Dados, m exemplos com n características\n",
    "      y (ndarray (m,)) : valores alvo\n",
    "      w (ndarray (n,)) : parâmetros do modelo  \n",
    "      b (escalar)      : parâmetro do modelo\n",
    "      lambda_ : (escalar, float):    Controla a quantidade de regularização presente no modelo (default = 1)\n",
    "      \n",
    "    Retorna:\n",
    "      custo (escalar): custo\n",
    "    \"\"\"\n",
    "\n",
    "    m = X.shape[0]\n",
    "    custo = 0.0\n",
    "    for i in range(m):\n",
    "        z_i = np.dot(X[i],w) + b\n",
    "        f_wb_i = sigmoid(z_i)\n",
    "        custo +=  -y[i]*np.log(f_wb_i) - (1-y[i])*np.log(1-f_wb_i)\n",
    "         \n",
    "    custo = custo / m\n",
    "    \n",
    "    # Abaixo calculamos o termo (custo) associado à regularização:\n",
    "    custo_reg =  (lambda_/(2 * m))*sum(np.square(w))\n",
    "            \n",
    "    custo = custo + custo_reg\n",
    "    \n",
    "    return custo\n"
   ]
  },
  {
   "cell_type": "markdown",
   "id": "83d49986",
   "metadata": {},
   "source": [
    "Rode o código abaixo para checar a nossa implementação da função `calcula_custo_RegLog_com_regu`"
   ]
  },
  {
   "cell_type": "code",
   "execution_count": 9,
   "id": "9b836732",
   "metadata": {},
   "outputs": [
    {
     "name": "stdout",
     "output_type": "stream",
     "text": [
      "Custo regularizado : 0.6618252552483948\n"
     ]
    }
   ],
   "source": [
    "X_mapped = mapeia_caracteristicas(X_train[:, 0], X_train[:, 1])\n",
    "np.random.seed(1)\n",
    "initial_w = np.random.rand(X_mapped.shape[1]) - 0.5  # O que este comando faz?\n",
    "initial_b = 0.5\n",
    "lambda_   = 0.5\n",
    "custo     = calcula_custo_RegLog_com_regu(X_mapped, y_train, initial_w, initial_b, lambda_)\n",
    "\n",
    "print(\"Custo regularizado :\", custo)"
   ]
  },
  {
   "cell_type": "markdown",
   "id": "b2d8a41a",
   "metadata": {},
   "source": [
    "**Resultado esperado**:\n",
    "<table>\n",
    "  <tr>\n",
    "    <td> <b>Custo regularizado : <b></td>\n",
    "    <td> 0.6618252552483948 </td> \n",
    "  </tr>\n",
    "</table>"
   ]
  },
  {
   "cell_type": "markdown",
   "id": "19da3ef7",
   "metadata": {
    "pycharm": {
     "name": "#%% md\n"
    }
   },
   "source": [
    "# Método do Gradiente com Regularização"
   ]
  },
  {
   "cell_type": "markdown",
   "id": "25268a92",
   "metadata": {
    "pycharm": {
     "name": "#%% md\n"
    }
   },
   "source": [
    "\n",
    "Lembre-se que o Método do Gradiente implementa a seguinte lógica:\n",
    "$$\\begin{align*}\n",
    "&\\text{repetir até convergir:} \\; \\lbrace \\\\\n",
    "&  \\; \\; \\;w_j = w_j -  \\alpha \\frac{\\partial J(\\mathbf{w},b)}{\\partial w_j} \\tag{1}  \\; & \\text{para j := 0..n-1} \\\\ \n",
    "&  \\; \\; \\;  \\; \\;b = b -  \\alpha \\frac{\\partial J(\\mathbf{w},b)}{\\partial b} \\\\\n",
    "&\\rbrace\n",
    "\\end{align*}$$\n",
    "\n",
    "Onde cada iteração performa atualização simultanea de $w_j$ para todo $j$ e para $b$, onde\n",
    "$$\\begin{align*}\n",
    "\\frac{\\partial J(\\mathbf{w},b)}{\\partial w_j}  &= \\left( \\frac{1}{m}  \\sum_{i=0}^{m-1} (f_{\\mathbf{w},b}(\\mathbf{x}^{(i)}) - y^{(i)}) x_j^{(i)} \\right) + \\frac{\\lambda}{m} w_j  \\tag{2} \\\\\n",
    "\\frac{\\partial J(\\mathbf{w},b)}{\\partial b}  &= \\frac{1}{m} \\sum\\limits_{i = 0}^{m-1} (f_{\\mathbf{w},b}(\\mathbf{x}^{(i)}) - y^{(i)}) \\tag{3} \n",
    "\\end{align*}$$\n",
    "\n",
    "* $f_{\\mathbf{w},b}(x^{(i)})$ é a previsão feita pelo modelo, sendo $y^{(i)}$ o alvo\n",
    "* Para o modelo de Regressão Logística:\n",
    "    $z = \\mathbf{w} \\cdot \\mathbf{x} + b$  \n",
    "    $f_{\\mathbf{w},b}(x) = g(z)$  \n",
    "    sendo $g(z)$ a função sigmoide:  \n",
    "    $g(z) = \\frac{1}{1+e^{-z}}$   \n",
    "    "
   ]
  },
  {
   "cell_type": "markdown",
   "id": "8f868b74",
   "metadata": {},
   "source": [
    "## Implementação do Método do Gradiente:\n",
    "\n",
    "O algoritmo do Método do Gradiente possui duas componentes: \n",
    "- O loop que implementa a equação (1) acima. Essa é a função metodo_do_gradiente_RegLog_com_regu abaixo.\n",
    "- O cálculo do gradiente atual, dado pelas equações (2) e (3) acima. Essa é a função calcula_gradiente_RegLog_com_regu abaixo.\n",
    "\n",
    "#### Cálculo do gradiente: descrição do código:\n",
    "Implementa as equações (2) e (3) acima para todo $w_j$ e $b$.\n",
    "\n",
    "Há muitas formas para se implementar isso. Abaixo fazemos da seguinte maneira:\n",
    "- Inicializamos as variáveis para acumular `dj_dw` e `dj_db`\n",
    "- Para cada exemplo:\n",
    "    - Calcula-se o erro para esse exemplo, $g(\\mathbf{w} \\cdot \\mathbf{x}^{(i)} + b) - \\mathbf{y}^{(i)}$\n",
    "    - Para cada valor de entrada $x_{j}^{(i)}$ nesse exemplo,  \n",
    "        - multiplica o erro pela entrada  $x_{j}^{(i)}$, e adiciona ao elemento correspondente de `dj_dw`. (Equação 2 acima)\n",
    "    - adiciona o erro para `dj_db` (Equação 3 acima)\n",
    "\n",
    "- divide-se `dj_db` e `dj_dw` pelo número total de amostras (m)\n",
    "- Note que $\\mathbf{x}^{(i)}$ em Numpy é `X[i,:]` ou `X[i]`  e que $x_{j}^{(i)}$ é `X[i,j]`"
   ]
  },
  {
   "cell_type": "code",
   "execution_count": 10,
   "id": "f05ef97d",
   "metadata": {},
   "outputs": [],
   "source": [
    "def calcula_gradiente_RegLog_com_regu(X, y, w, b, lambda_ = 1): \n",
    "    \"\"\"\n",
    "    Calcula Gradiente para Regressão Linear\n",
    "    Argumentos:\n",
    "      X (ndarray (m,n)): Dados, contendo m exemplos com n características\n",
    "      y (ndarray (m,)) : valores alvo\n",
    "      w (ndarray (n,)) : parâmetros w do modelo  \n",
    "      b (scalar)       : parâmetro b do modelo\n",
    "      lambda_ : (escalar, float):    Controla a quantidade de regularização presente no modelo (default = 1)\n",
    "      \n",
    "    Retorna:\n",
    "      dj_dw (ndarray (n,)): O gradiente da função custo com relação aos parâmetros w. \n",
    "      dj_db (escalar):      O gradiente da função custo com relação ao parâmetro b. \n",
    "    \"\"\"\n",
    "    m,n = X.shape\n",
    "    dj_dw = np.zeros((n,))                           #(n,)\n",
    "    dj_db = 0.\n",
    "\n",
    "    for i in range(m):\n",
    "        f_wb_i = sigmoid(np.dot(X[i],w) + b)          #(n,)(n,)=scalar\n",
    "        err_i  = f_wb_i  - y[i]                       #scalar\n",
    "        for j in range(n):\n",
    "            dj_dw[j] = dj_dw[j] + err_i * X[i,j]      #scalar\n",
    "        dj_db = dj_db + err_i\n",
    "    dj_dw = dj_dw/m                                   #(n,)\n",
    "    dj_db = dj_db/m                                   #scalar\n",
    "    \n",
    "    # Com o for abaixo, adicionamos às derivadas a parte que corresponde à regularização\n",
    "    for j in range(n):\n",
    "        dj_dw[j] = dj_dw[j] + (lambda_/m) * w[j]\n",
    "        \n",
    "    return dj_db, dj_dw"
   ]
  },
  {
   "cell_type": "markdown",
   "id": "6892c2dc",
   "metadata": {},
   "source": [
    "Rode o código abaixo para checar a nossa implementação da função `calcula_gradiente_RegLog_com_regu`"
   ]
  },
  {
   "cell_type": "code",
   "execution_count": 11,
   "id": "033ba728",
   "metadata": {},
   "outputs": [
    {
     "name": "stdout",
     "output_type": "stream",
     "text": [
      "dj_db: 0.07138288792343662\n",
      "Primeiros 4 elementos dj_dw regularizado:\n",
      " [-0.010386028450548701, 0.011409852883280122, 0.0536273463274574, 0.003140278267313462]\n"
     ]
    }
   ],
   "source": [
    "X_mapped = mapeia_caracteristicas(X_train[:, 0], X_train[:, 1])\n",
    "np.random.seed(1) \n",
    "initial_w  = np.random.rand(X_mapped.shape[1]) - 0.5 \n",
    "initial_b = 0.5\n",
    " \n",
    "lambda_ = 0.5\n",
    "dj_db, dj_dw = calcula_gradiente_RegLog_com_regu(X_mapped, y_train, initial_w, initial_b, lambda_)\n",
    "\n",
    "print(f\"dj_db: {dj_db}\", )\n",
    "print(f\"Primeiros 4 elementos dj_dw regularizado:\\n {dj_dw[:4].tolist()}\", )"
   ]
  },
  {
   "cell_type": "markdown",
   "id": "6f4966a5",
   "metadata": {
    "pycharm": {
     "name": "#%% md\n"
    }
   },
   "source": [
    "**Resultados esperados**:\n",
    "<table>\n",
    "  <tr>\n",
    "    <td> <b>dj_db:</b>0.07138288792343656</td> </tr>\n",
    "  <tr>\n",
    "      <td> <b> Primeiros 4 elementos dj_dw regularizado:</b> </td> </tr>\n",
    "   <tr>\n",
    "   <td> [[-0.010386028450548701], [0.01140985288328012], [0.0536273463274574], [0.003140278267313462]] </td> \n",
    "  </tr>\n",
    "</table>"
   ]
  },
  {
   "cell_type": "markdown",
   "id": "a2006999",
   "metadata": {
    "pycharm": {
     "name": "#%% md\n"
    }
   },
   "source": [
    "#### Método do Gradiente: descrição do código\n",
    "\n",
    "O código que implementa a Equação (1) acima é fornecido abaixo. Tire um momento para entender o que está sendo calculado e como isso é feito.\n"
   ]
  },
  {
   "cell_type": "code",
   "execution_count": 12,
   "id": "b871c642",
   "metadata": {},
   "outputs": [],
   "source": [
    "def metodo_do_gradiente_RegLog_com_regu(X, y, w_in, b_in, alpha, num_iters, lambda_): \n",
    "    \"\"\"\n",
    "    Performa Método do Gradiente para aprender w e b. Atualiza w e b ao longo de  \n",
    "    num_iters passos de iteração usando uma taxa de aprendizado alpha\n",
    "    \n",
    "    Argumentos:\n",
    "      X (ndarray (m,n))      : Dados, contendo m exemplos com n características\n",
    "      y (ndarray (m,))       : valores alvo\n",
    "      w_in (ndarray (n,))    : valores iniciais dos parâmetros w do modelo  \n",
    "      b_in (escalar)         : valor inicial do parâmetro b do modelo\n",
    "      alpha (float)          : taxa de aprendizado\n",
    "      num_iters (int)        : Número de iterações para o método do gradiente\n",
    "      lambda_(scalar, float) : Constante de Regularização\n",
    "      \n",
    "    Retorna:\n",
    "      w (ndarray (n,)) : Valores atualizados para os parâmetros w\n",
    "      b (scalar)       : Valores atualizado para o parâmetro b \n",
    "      \"\"\"\n",
    "    \n",
    "    # Valores históricos\n",
    "    J_history = []\n",
    "    w = w_in\n",
    "    b = b_in\n",
    "    \n",
    "    for i in range(num_iters):\n",
    "        # Calculando o gradiente\n",
    "        dj_db, dj_dw = calcula_gradiente_RegLog_com_regu(X, y, w, b, lambda_)   \n",
    "\n",
    "        # Atualizando os parâmetros com base em alpha e nos gradientes\n",
    "        w = w - alpha * dj_dw               \n",
    "        b = b - alpha * dj_db               \n",
    "      \n",
    "        # Salva J para cada iteração\n",
    "        if i<100000:      # prevent resource exhaustion \n",
    "            J_history.append( calcula_custo_RegLog_com_regu(X, y, w, b, lambda_) )\n",
    "\n",
    "        # Faz o print da função custo de tempos em tempos\n",
    "        if i% math.ceil(num_iters / 10) == 0:\n",
    "            print(f\"Iteração {i:4d}: Custo {J_history[-1]}   \")\n",
    "        \n",
    "    return w, b, J_history         #retorna os valores finais w,b e J history para plotar curva de aprendizado\n"
   ]
  },
  {
   "cell_type": "markdown",
   "id": "456eb65e",
   "metadata": {
    "pycharm": {
     "name": "#%% md\n"
    }
   },
   "source": [
    "Vamos agora rodar a Regressão Logística para os nossos dados.\n",
    "- O bloco de código abaixo demora um tempo para rodar, especialmente com uma implementação não vetorizada. Você pode reduzir o número de `iterações` para testar sua implementação mais rapidamente. Se você tiver tempo, rode por 100000 iterações para obter resultados melhores."
   ]
  },
  {
   "cell_type": "code",
   "execution_count": 13,
   "id": "34664680",
   "metadata": {},
   "outputs": [
    {
     "name": "stdout",
     "output_type": "stream",
     "text": [
      "Iteração    0: Custo 0.7210188345400221   \n",
      "Iteração 1000: Custo 0.5874629876860554   \n",
      "Iteração 2000: Custo 0.5571493267445516   \n",
      "Iteração 3000: Custo 0.5331852187780525   \n",
      "Iteração 4000: Custo 0.513669211379471   \n",
      "Iteração 5000: Custo 0.49746116535166157   \n",
      "Iteração 6000: Custo 0.4837818783748566   \n",
      "Iteração 7000: Custo 0.47208058644395257   \n",
      "Iteração 8000: Custo 0.46195696269215014   \n",
      "Iteração 9000: Custo 0.45311293975968187   \n",
      "\n",
      "parâmetros finais: w:[ 0.91430359  1.4923378  -2.59208306 -1.0206783  -1.70874963 -0.09508199\n",
      " -0.70729902 -0.45522579 -0.2625241  -1.50258859 -0.14183125 -0.44103606\n",
      " -0.5216627  -0.85782008 -0.62213889 -0.0730526  -0.11749311 -0.22665893\n",
      " -0.62206091 -0.81773062 -0.81412362  0.47440112 -0.48661532  0.20171914\n",
      "  0.03665575  0.27726316 -1.43466503], b:1.43411872285427\n"
     ]
    }
   ],
   "source": [
    "# Inicializando os parâmetros do modelo\n",
    "np.random.seed(1)\n",
    "initial_w = np.random.rand(X_mapped.shape[1])-0.5  # atribui um valor inicial aleatório para os parâmetros w_j\n",
    "initial_b = 1.\n",
    "\n",
    "# Definindo o parâmetro de regularização (fique a vontade para variá-lo)\n",
    "lambda_ = 0.01;                                          \n",
    "# Outras definições para o método do gradiente:\n",
    "iterations = 10000\n",
    "alpha = 0.01\n",
    "\n",
    "\n",
    "w_out, b_out, _ = metodo_do_gradiente_RegLog_com_regu(X_mapped, y_train, initial_w, initial_b, alpha, iterations, lambda_) \n",
    "print(f\"\\nparâmetros finais: w:{w_out}, b:{b_out}\")\n"
   ]
  },
  {
   "cell_type": "markdown",
   "id": "d13a7d1a",
   "metadata": {
    "pycharm": {
     "name": "#%% md\n"
    }
   },
   "source": [
    "**Resultado Esperado: Custo $<$ 0.5**"
   ]
  },
  {
   "cell_type": "markdown",
   "id": "e7c52731",
   "metadata": {
    "pycharm": {
     "name": "#%% md\n"
    }
   },
   "source": [
    "## Plotando a Fronteira de Decisão\n",
    "\n",
    "Para lhe auxiliar na visualização do modelo treinado pelo classificador, nós usaremos a nossa função `plota_fronteira_decisao` que plota a fronteira de decisão não linear que separa os exemplos positivos dos negativos.\n",
    "\n",
    "- Na função, nós plotamos a fronteira de decisão não linear computando as previsões do classificador numa grid igualmente espaçada e então desenhamos o gráfico de contorno onde as previsões mudam de y = 0 para y = 1."
   ]
  },
  {
   "cell_type": "code",
   "execution_count": 14,
   "id": "7a7d8bc3",
   "metadata": {},
   "outputs": [
    {
     "data": {
      "image/png": "[encoded data removed]",
      "text/plain": [
       "<Figure size 432x288 with 1 Axes>"
      ]
     },
     "metadata": {
      "needs_background": "light"
     },
     "output_type": "display_data"
    }
   ],
   "source": [
    "plota_fronteira_decisao(w_out, b_out, X_mapped, y_train)"
   ]
  },
  {
   "cell_type": "markdown",
   "id": "f6b8a25c",
   "metadata": {
    "pycharm": {
     "name": "#%% md\n"
    }
   },
   "source": [
    "## Fazendo previsões:\n",
    "\n",
    "Agora você pode ver as previsões feitas por este modelo chamando a nossa função `probab_e_previsao`. Ela irá fornecer as probabilidades calculadas pelo modelo para cada amostra e então produz as previsões 1 ou 0 com base nessas probabilidades."
   ]
  },
  {
   "cell_type": "markdown",
   "id": "f4b2a134",
   "metadata": {},
   "source": [
    "- Primeiro, é necessário calcular a probabilidade de $y$ ser 1 a partir do modelo $f(x^{(i)}) = g(w \\cdot x^{(i)}+b)$ para cada amostra. Isso considerando parâmetros $w$ e $b$ para o modelo.\n",
    "- Então, para obter uma previsão final ($y^{(i)}=0$ ou $y^{(i)}=1$) do modelo de regressão logística, nós usamos a seguinte heurística:\n",
    "\n",
    "  se $f(x^{(i)}) >= 0.5$, prever $y^{(i)}=1$\n",
    "  \n",
    "  se $f(x^{(i)}) < 0.5$, prever $y^{(i)}=0$\n",
    "    "
   ]
  },
  {
   "cell_type": "code",
   "execution_count": 17,
   "id": "1156abcd",
   "metadata": {},
   "outputs": [],
   "source": [
    "def probab_e_previsao(X, w, b): \n",
    "    \"\"\"\n",
    "    Prevê se o rótulo é 0 ou 1 usando modelo de regressão logística com parâmetros w e b\n",
    "    \n",
    "    Argumentos:\n",
    "    X : (ndarray Shape (m, n))       Dados\n",
    "    w : (array_like Shape (n,))      Parâmetros do modelo\n",
    "    b : (scalar, float)              Parâmetro do modelo\n",
    "\n",
    "    Retorna:\n",
    "    probab:   (ndarray (m,1))        Probabilidade de y ser 1 para cada amostra\n",
    "    previsao: (ndarray (m,1))        Previsão final para cada amostra usando limiar de 0.5\n",
    "    \"\"\"\n",
    "    # número de amostras de treinamento\n",
    "    m, n     = X.shape   \n",
    "    probab   = np.zeros(m)\n",
    "    previsao = np.zeros(m)\n",
    "   \n",
    "    # passando por cada amostra\n",
    "    for i in range(m):   \n",
    "        z_wb = np.dot(X[i],w) \n",
    "        \n",
    "        # adiciona termo de bias\n",
    "        z_wb += b\n",
    "        \n",
    "        # calcula a probabilidade para esse exemplo\n",
    "        f_wb      = sigmoid(z_wb)\n",
    "        probab[i] = f_wb\n",
    "\n",
    "        # Aplica o valor limiar para geral a previsão final\n",
    "        previsao[i] = 1 if f_wb>0.5 else 0\n",
    "\n",
    "    return probab, previsao"
   ]
  },
  {
   "cell_type": "code",
   "execution_count": 18,
   "id": "832a9726",
   "metadata": {},
   "outputs": [
    {
     "name": "stdout",
     "output_type": "stream",
     "text": [
      "[[0.73437258 1.        ]\n",
      " [0.75128805 1.        ]\n",
      " [0.72737832 1.        ]\n",
      " [0.74786624 1.        ]\n",
      " [0.65271664 1.        ]\n",
      " [0.61269189 1.        ]\n",
      " [0.66604092 1.        ]\n",
      " [0.62445371 1.        ]\n",
      " [0.63856543 1.        ]\n",
      " [0.58175132 1.        ]\n",
      " [0.53469353 1.        ]\n",
      " [0.50987647 1.        ]\n",
      " [0.5740845  1.        ]\n",
      " [0.45080369 0.        ]\n",
      " [0.65090481 1.        ]\n",
      " [0.75158347 1.        ]\n",
      " [0.81549498 1.        ]\n",
      " [0.57232263 1.        ]\n",
      " [0.72948788 1.        ]\n",
      " [0.63337184 1.        ]\n",
      " [0.51435969 1.        ]\n",
      " [0.51243399 1.        ]\n",
      " [0.45746859 0.        ]\n",
      " [0.48578136 0.        ]\n",
      " [0.5967915  1.        ]\n",
      " [0.50990798 1.        ]\n",
      " [0.53295385 1.        ]\n",
      " [0.3604747  0.        ]\n",
      " [0.81289585 1.        ]\n",
      " [0.60066092 1.        ]\n",
      " [0.1905419  0.        ]\n",
      " [0.59822976 1.        ]\n",
      " [0.76636824 1.        ]\n",
      " [0.79095305 1.        ]\n",
      " [0.75458722 1.        ]\n",
      " [0.72379056 1.        ]\n",
      " [0.65289064 1.        ]\n",
      " [0.73509723 1.        ]\n",
      " [0.76912967 1.        ]\n",
      " [0.66572803 1.        ]\n",
      " [0.75202334 1.        ]\n",
      " [0.71699185 1.        ]\n",
      " [0.60179093 1.        ]\n",
      " [0.77188797 1.        ]\n",
      " [0.65743865 1.        ]\n",
      " [0.70092084 1.        ]\n",
      " [0.40202271 0.        ]\n",
      " [0.81023494 1.        ]\n",
      " [0.58139224 1.        ]\n",
      " [0.64792193 1.        ]\n",
      " [0.80562642 1.        ]\n",
      " [0.84581314 1.        ]\n",
      " [0.81665314 1.        ]\n",
      " [0.81643321 1.        ]\n",
      " [0.79731541 1.        ]\n",
      " [0.69118335 1.        ]\n",
      " [0.74603685 1.        ]\n",
      " [0.66652156 1.        ]\n",
      " [0.19851062 0.        ]\n",
      " [0.56212119 1.        ]\n",
      " [0.73587074 1.        ]\n",
      " [0.3561087  0.        ]\n",
      " [0.26448711 0.        ]\n",
      " [0.47445845 0.        ]\n",
      " [0.27711237 0.        ]\n",
      " [0.0761452  0.        ]\n",
      " [0.27638102 0.        ]\n",
      " [0.06767639 0.        ]\n",
      " [0.09606838 0.        ]\n",
      " [0.21839053 0.        ]\n",
      " [0.13969391 0.        ]\n",
      " [0.17652718 0.        ]\n",
      " [0.15297576 0.        ]\n",
      " [0.18161191 0.        ]\n",
      " [0.24679587 0.        ]\n",
      " [0.45249657 0.        ]\n",
      " [0.6181627  1.        ]\n",
      " [0.52792837 1.        ]\n",
      " [0.31225405 0.        ]\n",
      " [0.31084531 0.        ]\n",
      " [0.52499607 1.        ]\n",
      " [0.54987022 1.        ]\n",
      " [0.39573885 0.        ]\n",
      " [0.52040125 1.        ]\n",
      " [0.15828071 0.        ]\n",
      " [0.33026007 0.        ]\n",
      " [0.3064693  0.        ]\n",
      " [0.32266109 0.        ]\n",
      " [0.63378833 1.        ]\n",
      " [0.2647293  0.        ]\n",
      " [0.22751387 0.        ]\n",
      " [0.50705504 1.        ]\n",
      " [0.61358609 1.        ]\n",
      " [0.28390923 0.        ]\n",
      " [0.12971313 0.        ]\n",
      " [0.01021252 0.        ]\n",
      " [0.00671897 0.        ]\n",
      " [0.33041952 0.        ]\n",
      " [0.04521553 0.        ]\n",
      " [0.07675225 0.        ]\n",
      " [0.30362548 0.        ]\n",
      " [0.00821133 0.        ]\n",
      " [0.46991213 0.        ]\n",
      " [0.31958279 0.        ]\n",
      " [0.60177444 1.        ]\n",
      " [0.40048123 0.        ]\n",
      " [0.52829962 1.        ]\n",
      " [0.69765069 1.        ]\n",
      " [0.40071901 0.        ]\n",
      " [0.26299285 0.        ]\n",
      " [0.21953757 0.        ]\n",
      " [0.24352328 0.        ]\n",
      " [0.1911803  0.        ]\n",
      " [0.35846996 0.        ]\n",
      " [0.55996821 1.        ]\n",
      " [0.07756392 0.        ]\n",
      " [0.10598459 0.        ]\n",
      " [0.64006767 1.        ]]\n",
      "Taxa de acerto para dados de treinamento: 82.203390\n"
     ]
    }
   ],
   "source": [
    "# Calculando probalidade e previsão correspondente para cada amostra do conjunto de dados de treinamento\n",
    "probab, previsao = probab_e_previsao(X_mapped, w_out, b_out)\n",
    "\n",
    "print(np.c_[probab, previsao])\n",
    "\n",
    "print('Taxa de acerto para dados de treinamento: %f'%(np.mean(previsao == y_train) * 100))"
   ]
  },
  {
   "cell_type": "markdown",
   "id": "4e57b80f",
   "metadata": {},
   "source": [
    "**Resultado Esperado**:\n",
    "<table>\n",
    "  <tr>\n",
    "    <td> <b>Taxa de acerto para dados de treinamento:</b>~ 80%</td> </tr>\n",
    "</table>"
   ]
  },
  {
   "cell_type": "markdown",
   "id": "4b8311c8",
   "metadata": {
    "pycharm": {
     "name": "#%% md\n"
    }
   },
   "source": [
    "## Parabéns!\n",
    "\n",
    "Com este código você implementou o algoritmo de Regressão Logística com Regularização."
   ]
  },
  {
   "cell_type": "code",
   "execution_count": null,
   "id": "f566aadf",
   "metadata": {
    "pycharm": {
     "name": "#%%\n"
    }
   },
   "outputs": [],
   "source": []
  }
 ],
 "metadata": {
  "kernelspec": {
   "display_name": "Python 3 (ipykernel)",
   "language": "python",
   "name": "python3"
  },
  "language_info": {
   "codemirror_mode": {
    "name": "ipython",
    "version": 3
   },
   "file_extension": ".py",
   "mimetype": "text/x-python",
   "name": "python",
   "nbconvert_exporter": "python",
   "pygments_lexer": "ipython3",
   "version": "3.9.12"
  }
 },
 "nbformat": 4,
 "nbformat_minor": 5
}
